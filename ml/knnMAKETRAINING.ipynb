{
 "cells": [
  {
   "cell_type": "code",
   "execution_count": 1,
   "id": "7701ece4",
   "metadata": {
    "scrolled": true
   },
   "outputs": [],
   "source": [
    "import numpy as np\n",
    "import cv2\n",
    "from matplotlib import pyplot as plt\n",
    "import pandas as pd\n",
    "import os\n",
    "from sklearn.metrics import accuracy_score, balanced_accuracy_score\n",
    "from sklearn.metrics._plot import confusion_matrix as cm\n",
    "from sklearn.metrics import confusion_matrix\n",
    "import faiss\n",
    "from sklearn.utils import resample, shuffle"
   ]
  },
  {
   "cell_type": "markdown",
   "id": "d0553bff",
   "metadata": {},
   "source": [
    "## Utils"
   ]
  },
  {
   "cell_type": "code",
   "execution_count": 2,
   "id": "ef8e359d",
   "metadata": {},
   "outputs": [],
   "source": [
    "def imageSet(dirActive):\n",
    "    def getCv2ImgAtIndex(index, labelsCsv):\n",
    "        ts = labelsCsv['timestamp'][index]\n",
    "        if not os.path.exists(f'{dirActive}/images/img_{ts}.jpeg'):\n",
    "             return np.array([])\n",
    "        img = cv2.resize(cv2.imread(f'{dirActive}/images/img_{ts}.jpeg'),(40,30))\n",
    "        return img\n",
    "    labelsCsv = pd.read_csv(f'{dirActive}/labels.csv')\n",
    "    labelsThatExists = [i for i in range(len(labelsCsv)) if os.path.exists(f'{dirActive}/images/img_{labelsCsv[\"timestamp\"][i]}.jpeg') and labelsCsv['forward/backward'][i] == 1]\n",
    "    imageArray = np.array([getCv2ImgAtIndex(i,labelsCsv) for i in labelsThatExists])\n",
    "    leftRightArray = np.array([labelsCsv['left/right'][i] for i in labelsThatExists])\n",
    "    return imageArray, leftRightArray, labelsCsv\n",
    "\n",
    "def processedImageSet(imageSet, labelSet, processFunc):\n",
    "    imageArray = np.array([processFunc(i) for i in imageSet])\n",
    "    flatImageArray = np.array([image.flatten() for image in imageArray])\n",
    "    return flatImageArray, labelSet, imageArray, imageSet\n",
    "\n",
    "def bmxr(im, x=1.5):\n",
    "    b = im[:,:,0]\n",
    "    r = im[:,:,2]\n",
    "    return cv2.subtract(b,cv2.multiply(r,x))\n",
    "\n",
    "def thresholdIm(im, low=50, high=255):\n",
    "    e,im = cv2.threshold(im, low, high, cv2.THRESH_BINARY)\n",
    "    return im\n",
    "\n",
    "def dispIm(im, label=\"pic\"):\n",
    "    im_rgb = cv2.cvtColor(im, cv2.COLOR_BGR2RGB)\n",
    "    plt.imshow(im_rgb)\n",
    "    plt.title(label)\n",
    "    plt.show()\n",
    "\n",
    "def dispGSIm(im, label='pic'):\n",
    "    plt.imshow(im, cmap='gray', vmin = 0, vmax = 255,interpolation='none')\n",
    "    plt.title(label)\n",
    "    plt.show()"
   ]
  },
  {
   "cell_type": "markdown",
   "id": "92bb40be",
   "metadata": {},
   "source": [
    "## Get train and test set"
   ]
  },
  {
   "cell_type": "code",
   "execution_count": 3,
   "id": "a892dc3b",
   "metadata": {},
   "outputs": [],
   "source": [
    "train_u_images, train_u_labels, labelsCsv_train = imageSet('../data/dataTrackV2_4/')\n",
    "# test_images, test_labels, labelsCsv_test = imageSet('../data/dataTrackV2_5/')"
   ]
  },
  {
   "cell_type": "markdown",
   "id": "75c02573",
   "metadata": {},
   "source": [
    "## Balance the sampling in the training set"
   ]
  },
  {
   "cell_type": "code",
   "execution_count": 15,
   "id": "387ad55f",
   "metadata": {
    "scrolled": true
   },
   "outputs": [
    {
     "name": "stdout",
     "output_type": "stream",
     "text": [
      "[ 2158 13609  1547]\n",
      "dominant class (0) has 13609 samples.\n",
      "[13609 13609 13609]\n"
     ]
    }
   ],
   "source": [
    "counts = np.bincount(train_u_labels + 1)\n",
    "print(counts)\n",
    "dominantClass = 0\n",
    "dominantClassCount = counts[dominantClass + 1]\n",
    "print(f'dominant class ({dominantClass}) has {dominantClassCount} samples.')\n",
    "dominantIndices = np.where(train_u_labels == dominantClass)[0]\n",
    "X_straight = train_u_images[dominantIndices]\n",
    "y_straight = train_u_labels[dominantIndices]\n",
    "\n",
    "X_straight_to_shift = shuffle(X_straight,random_state=42)[:5000]\n",
    "\n",
    "M_left = np.float32([\n",
    "    [1, 0, -16],\n",
    "    [0, 1, 0]\n",
    "])\n",
    "X_left_shifted = np.array([cv2.warpAffine(straight, M_left, (straight.shape[1], straight.shape[0])) for straight in X_straight_to_shift])\n",
    "y_left_shifted = np.ones(5000, dtype = int) - 2\n",
    "\n",
    "M_right = np.float32([\n",
    "    [1, 0, 16],\n",
    "    [0, 1, 0]\n",
    "])\n",
    "X_right_shifted = np.array([cv2.warpAffine(straight, M_right, (straight.shape[1], straight.shape[0])) for straight in X_straight_to_shift])\n",
    "y_right_shifted = np.ones(5000, dtype = int)\n",
    "\n",
    "X_left, y_left = resample(train_u_images[train_u_labels == -1], train_u_labels[train_u_labels == -1],\n",
    "                                 replace=True,     # sample with replacement\n",
    "                                 n_samples=dominantClassCount-5000,    # to match majority class\n",
    "                                 random_state=42) # reproducible results\n",
    "\n",
    "X_right, y_right = resample(train_u_images[train_u_labels == 1], train_u_labels[train_u_labels == 1],\n",
    "                                 replace=True,     # sample with replacement\n",
    "                                 n_samples=dominantClassCount-5000,    # to match majority class\n",
    "                                 random_state=42) # reproducible results\n",
    "\n",
    "train_labels = np.concatenate((y_left,y_straight,y_right,y_left_shifted,y_right_shifted))\n",
    "train_images = np.concatenate((X_left, X_straight, X_right,X_left_shifted,X_right_shifted))\n",
    "train_images, train_labels = shuffle(train_images, train_labels, random_state=42)\n",
    "counts = np.bincount(train_labels + 1)\n",
    "print(counts)"
   ]
  },
  {
   "cell_type": "markdown",
   "id": "8f0c12d9",
   "metadata": {},
   "source": [
    "## Process the data"
   ]
  },
  {
   "cell_type": "code",
   "execution_count": 16,
   "id": "f7a491d0",
   "metadata": {},
   "outputs": [],
   "source": [
    "def processImage(im):    \n",
    "    im = bmxr(im,1.25)\n",
    "    im = thresholdIm(im,8,255)\n",
    "    \n",
    "    return im\n",
    "\n",
    "# X_test, y_test, X_test_images, X_test_originals = processedImageSet(test_images, test_labels, processImage)\n",
    "X_train, y_train, X_train_images, X_train_originals = processedImageSet(train_images, train_labels, processImage)"
   ]
  },
  {
   "cell_type": "code",
   "execution_count": 17,
   "id": "3b24b597",
   "metadata": {},
   "outputs": [],
   "source": [
    "import pickle\n",
    "save_file_name = 'train_set.pickle'\n",
    "\n",
    "with open(save_file_name, 'wb') as f:\n",
    "    pickle.dump((X_train, y_train), f)"
   ]
  },
  {
   "cell_type": "code",
   "execution_count": 13,
   "id": "fd6f6d7e",
   "metadata": {
    "scrolled": false
   },
   "outputs": [],
   "source": [
    "import random\n",
    "\n",
    "def displayRandom(ims, originals, k=5):\n",
    "    for i in range(k):\n",
    "        ind = random.randint(0, len(ims))\n",
    "        dispIm(originals[ind],f'og @{ind}')\n",
    "        dispIm(ims[ind], f'edit @{ind}')"
   ]
  },
  {
   "cell_type": "code",
   "execution_count": 14,
   "id": "de99d71f",
   "metadata": {
    "scrolled": false
   },
   "outputs": [
    {
     "data": {
      "image/png": "[encoded data removed]",
      "text/plain": [
       "<Figure size 432x288 with 1 Axes>"
      ]
     },
     "metadata": {
      "needs_background": "light"
     },
     "output_type": "display_data"
    },
    {
     "data": {
      "image/png": "[encoded data removed]",
      "text/plain": [
       "<Figure size 432x288 with 1 Axes>"
      ]
     },
     "metadata": {
      "needs_background": "light"
     },
     "output_type": "display_data"
    },
    {
     "data": {
      "image/png": "[encoded data removed]",
      "text/plain": [
       "<Figure size 432x288 with 1 Axes>"
      ]
     },
     "metadata": {
      "needs_background": "light"
     },
     "output_type": "display_data"
    },
    {
     "data": {
      "image/png": "[encoded data removed]",
      "text/plain": [
       "<Figure size 432x288 with 1 Axes>"
      ]
     },
     "metadata": {
      "needs_background": "light"
     },
     "output_type": "display_data"
    },
    {
     "data": {
      "image/png": "[encoded data removed]",
      "text/plain": [
       "<Figure size 432x288 with 1 Axes>"
      ]
     },
     "metadata": {
      "needs_background": "light"
     },
     "output_type": "display_data"
    },
    {
     "data": {
      "image/png": "[encoded data removed]",
      "text/plain": [
       "<Figure size 432x288 with 1 Axes>"
      ]
     },
     "metadata": {
      "needs_background": "light"
     },
     "output_type": "display_data"
    },
    {
     "data": {
      "image/png": "[encoded data removed]",
      "text/plain": [
       "<Figure size 432x288 with 1 Axes>"
      ]
     },
     "metadata": {
      "needs_background": "light"
     },
     "output_type": "display_data"
    },
    {
     "data": {
      "image/png": "[encoded data removed]",
      "text/plain": [
       "<Figure size 432x288 with 1 Axes>"
      ]
     },
     "metadata": {
      "needs_background": "light"
     },
     "output_type": "display_data"
    },
    {
     "data": {
      "image/png": "[encoded data removed]",
      "text/plain": [
       "<Figure size 432x288 with 1 Axes>"
      ]
     },
     "metadata": {
      "needs_background": "light"
     },
     "output_type": "display_data"
    },
    {
     "data": {
      "image/png": "[encoded data removed]",
      "text/plain": [
       "<Figure size 432x288 with 1 Axes>"
      ]
     },
     "metadata": {
      "needs_background": "light"
     },
     "output_type": "display_data"
    }
   ],
   "source": [
    "# displayRandom(X_test_images, X_test_originals)\n",
    "displayRandom(X_train_images, X_train_originals)"
   ]
  },
  {
   "cell_type": "markdown",
   "id": "1c248604",
   "metadata": {},
   "source": [
    "# K-NearestNeighbours"
   ]
  },
  {
   "cell_type": "code",
   "execution_count": 1,
   "id": "a87db24c",
   "metadata": {},
   "outputs": [],
   "source": [
    "class FaissKNeighbors:\n",
    "    def __init__(self, k=5):\n",
    "        self.index = None\n",
    "        self.y = None\n",
    "        self.k = k\n",
    "\n",
    "    def fit(self, X, y):\n",
    "        self.index = faiss.IndexFlatL2(X.shape[1])\n",
    "        self.index.add(X.astype(np.float32))\n",
    "        self.y = y\n",
    "\n",
    "    def predict(self, X):\n",
    "        distances, indices = self.index.search(X.astype(np.float32), k=self.k)\n",
    "        votes = self.y[indices] + 1\n",
    "        predictions = np.array([np.argmax(np.bincount(x)) for x in votes]) - 1\n",
    "        return predictions"
   ]
  },
  {
   "cell_type": "code",
   "execution_count": 18,
   "id": "332c08b0",
   "metadata": {},
   "outputs": [],
   "source": [
    "def runKNN(k):\n",
    "    knn = FaissKNeighbors(k=k)\n",
    "    knn.fit(X_train, y_train)\n",
    "    y_predict = knn.predict(X_test)\n",
    "    acc = accuracy_score(y_test, y_predict)\n",
    "    bacc = balanced_accuracy_score(y_test, y_predict)\n",
    "    print(f'k={k} test accuracy: {acc:.3f} bacc: {bacc:.3f}')\n",
    "    matrix = confusion_matrix(y_test, y_predict)\n",
    "    disp=cm.ConfusionMatrixDisplay(confusion_matrix=matrix,\n",
    "                               display_labels=['-1','0','1'])\n",
    "    disp.plot(include_values=True, cmap=plt.cm.Blues);"
   ]
  },
  {
   "cell_type": "code",
   "execution_count": null,
   "id": "327bae66",
   "metadata": {},
   "outputs": [],
   "source": [
    "knn = FaissKNeighbors(k=51)\n",
    "knn.fit(X_train, y_train)"
   ]
  },
  {
   "cell_type": "code",
   "execution_count": 3,
   "id": "62dccd33",
   "metadata": {},
   "outputs": [
    {
     "ename": "NameError",
     "evalue": "name 'knn' is not defined",
     "output_type": "error",
     "traceback": [
      "\u001b[0;31m---------------------------------------------------------------------------\u001b[0m",
      "\u001b[0;31mNameError\u001b[0m                                 Traceback (most recent call last)",
      "\u001b[0;32m/tmp/ipykernel_49051/1988938700.py\u001b[0m in \u001b[0;36m<module>\u001b[0;34m\u001b[0m\n\u001b[0;32m----> 1\u001b[0;31m \u001b[0mget_ipython\u001b[0m\u001b[0;34m(\u001b[0m\u001b[0;34m)\u001b[0m\u001b[0;34m.\u001b[0m\u001b[0mrun_line_magic\u001b[0m\u001b[0;34m(\u001b[0m\u001b[0;34m'timeit'\u001b[0m\u001b[0;34m,\u001b[0m \u001b[0;34m'knn.predict(np.array([X_test[105]]))'\u001b[0m\u001b[0;34m)\u001b[0m\u001b[0;34m\u001b[0m\u001b[0;34m\u001b[0m\u001b[0m\n\u001b[0m",
      "\u001b[0;32m~/.local/lib/python3.8/site-packages/IPython/core/interactiveshell.py\u001b[0m in \u001b[0;36mrun_line_magic\u001b[0;34m(self, magic_name, line, _stack_depth)\u001b[0m\n\u001b[1;32m   2349\u001b[0m                 \u001b[0mkwargs\u001b[0m\u001b[0;34m[\u001b[0m\u001b[0;34m'local_ns'\u001b[0m\u001b[0;34m]\u001b[0m \u001b[0;34m=\u001b[0m \u001b[0mself\u001b[0m\u001b[0;34m.\u001b[0m\u001b[0mget_local_scope\u001b[0m\u001b[0;34m(\u001b[0m\u001b[0mstack_depth\u001b[0m\u001b[0;34m)\u001b[0m\u001b[0;34m\u001b[0m\u001b[0;34m\u001b[0m\u001b[0m\n\u001b[1;32m   2350\u001b[0m             \u001b[0;32mwith\u001b[0m \u001b[0mself\u001b[0m\u001b[0;34m.\u001b[0m\u001b[0mbuiltin_trap\u001b[0m\u001b[0;34m:\u001b[0m\u001b[0;34m\u001b[0m\u001b[0;34m\u001b[0m\u001b[0m\n\u001b[0;32m-> 2351\u001b[0;31m                 \u001b[0mresult\u001b[0m \u001b[0;34m=\u001b[0m \u001b[0mfn\u001b[0m\u001b[0;34m(\u001b[0m\u001b[0;34m*\u001b[0m\u001b[0margs\u001b[0m\u001b[0;34m,\u001b[0m \u001b[0;34m**\u001b[0m\u001b[0mkwargs\u001b[0m\u001b[0;34m)\u001b[0m\u001b[0;34m\u001b[0m\u001b[0;34m\u001b[0m\u001b[0m\n\u001b[0m\u001b[1;32m   2352\u001b[0m             \u001b[0;32mreturn\u001b[0m \u001b[0mresult\u001b[0m\u001b[0;34m\u001b[0m\u001b[0;34m\u001b[0m\u001b[0m\n\u001b[1;32m   2353\u001b[0m \u001b[0;34m\u001b[0m\u001b[0m\n",
      "\u001b[0;32m~/.local/lib/python3.8/site-packages/decorator.py\u001b[0m in \u001b[0;36mfun\u001b[0;34m(*args, **kw)\u001b[0m\n\u001b[1;32m    230\u001b[0m             \u001b[0;32mif\u001b[0m \u001b[0;32mnot\u001b[0m \u001b[0mkwsyntax\u001b[0m\u001b[0;34m:\u001b[0m\u001b[0;34m\u001b[0m\u001b[0;34m\u001b[0m\u001b[0m\n\u001b[1;32m    231\u001b[0m                 \u001b[0margs\u001b[0m\u001b[0;34m,\u001b[0m \u001b[0mkw\u001b[0m \u001b[0;34m=\u001b[0m \u001b[0mfix\u001b[0m\u001b[0;34m(\u001b[0m\u001b[0margs\u001b[0m\u001b[0;34m,\u001b[0m \u001b[0mkw\u001b[0m\u001b[0;34m,\u001b[0m \u001b[0msig\u001b[0m\u001b[0;34m)\u001b[0m\u001b[0;34m\u001b[0m\u001b[0;34m\u001b[0m\u001b[0m\n\u001b[0;32m--> 232\u001b[0;31m             \u001b[0;32mreturn\u001b[0m \u001b[0mcaller\u001b[0m\u001b[0;34m(\u001b[0m\u001b[0mfunc\u001b[0m\u001b[0;34m,\u001b[0m \u001b[0;34m*\u001b[0m\u001b[0;34m(\u001b[0m\u001b[0mextras\u001b[0m \u001b[0;34m+\u001b[0m \u001b[0margs\u001b[0m\u001b[0;34m)\u001b[0m\u001b[0;34m,\u001b[0m \u001b[0;34m**\u001b[0m\u001b[0mkw\u001b[0m\u001b[0;34m)\u001b[0m\u001b[0;34m\u001b[0m\u001b[0;34m\u001b[0m\u001b[0m\n\u001b[0m\u001b[1;32m    233\u001b[0m     \u001b[0mfun\u001b[0m\u001b[0;34m.\u001b[0m\u001b[0m__name__\u001b[0m \u001b[0;34m=\u001b[0m \u001b[0mfunc\u001b[0m\u001b[0;34m.\u001b[0m\u001b[0m__name__\u001b[0m\u001b[0;34m\u001b[0m\u001b[0;34m\u001b[0m\u001b[0m\n\u001b[1;32m    234\u001b[0m     \u001b[0mfun\u001b[0m\u001b[0;34m.\u001b[0m\u001b[0m__doc__\u001b[0m \u001b[0;34m=\u001b[0m \u001b[0mfunc\u001b[0m\u001b[0;34m.\u001b[0m\u001b[0m__doc__\u001b[0m\u001b[0;34m\u001b[0m\u001b[0;34m\u001b[0m\u001b[0m\n",
      "\u001b[0;32m~/.local/lib/python3.8/site-packages/IPython/core/magic.py\u001b[0m in \u001b[0;36m<lambda>\u001b[0;34m(f, *a, **k)\u001b[0m\n\u001b[1;32m    185\u001b[0m     \u001b[0;31m# but it's overkill for just that one bit of state.\u001b[0m\u001b[0;34m\u001b[0m\u001b[0;34m\u001b[0m\u001b[0;34m\u001b[0m\u001b[0m\n\u001b[1;32m    186\u001b[0m     \u001b[0;32mdef\u001b[0m \u001b[0mmagic_deco\u001b[0m\u001b[0;34m(\u001b[0m\u001b[0marg\u001b[0m\u001b[0;34m)\u001b[0m\u001b[0;34m:\u001b[0m\u001b[0;34m\u001b[0m\u001b[0;34m\u001b[0m\u001b[0m\n\u001b[0;32m--> 187\u001b[0;31m         \u001b[0mcall\u001b[0m \u001b[0;34m=\u001b[0m \u001b[0;32mlambda\u001b[0m \u001b[0mf\u001b[0m\u001b[0;34m,\u001b[0m \u001b[0;34m*\u001b[0m\u001b[0ma\u001b[0m\u001b[0;34m,\u001b[0m \u001b[0;34m**\u001b[0m\u001b[0mk\u001b[0m\u001b[0;34m:\u001b[0m \u001b[0mf\u001b[0m\u001b[0;34m(\u001b[0m\u001b[0;34m*\u001b[0m\u001b[0ma\u001b[0m\u001b[0;34m,\u001b[0m \u001b[0;34m**\u001b[0m\u001b[0mk\u001b[0m\u001b[0;34m)\u001b[0m\u001b[0;34m\u001b[0m\u001b[0;34m\u001b[0m\u001b[0m\n\u001b[0m\u001b[1;32m    188\u001b[0m \u001b[0;34m\u001b[0m\u001b[0m\n\u001b[1;32m    189\u001b[0m         \u001b[0;32mif\u001b[0m \u001b[0mcallable\u001b[0m\u001b[0;34m(\u001b[0m\u001b[0marg\u001b[0m\u001b[0;34m)\u001b[0m\u001b[0;34m:\u001b[0m\u001b[0;34m\u001b[0m\u001b[0;34m\u001b[0m\u001b[0m\n",
      "\u001b[0;32m~/.local/lib/python3.8/site-packages/IPython/core/magics/execution.py\u001b[0m in \u001b[0;36mtimeit\u001b[0;34m(self, line, cell, local_ns)\u001b[0m\n\u001b[1;32m   1167\u001b[0m             \u001b[0;32mfor\u001b[0m \u001b[0mindex\u001b[0m \u001b[0;32min\u001b[0m \u001b[0mrange\u001b[0m\u001b[0;34m(\u001b[0m\u001b[0;36m0\u001b[0m\u001b[0;34m,\u001b[0m \u001b[0;36m10\u001b[0m\u001b[0;34m)\u001b[0m\u001b[0;34m:\u001b[0m\u001b[0;34m\u001b[0m\u001b[0;34m\u001b[0m\u001b[0m\n\u001b[1;32m   1168\u001b[0m                 \u001b[0mnumber\u001b[0m \u001b[0;34m=\u001b[0m \u001b[0;36m10\u001b[0m \u001b[0;34m**\u001b[0m \u001b[0mindex\u001b[0m\u001b[0;34m\u001b[0m\u001b[0;34m\u001b[0m\u001b[0m\n\u001b[0;32m-> 1169\u001b[0;31m                 \u001b[0mtime_number\u001b[0m \u001b[0;34m=\u001b[0m \u001b[0mtimer\u001b[0m\u001b[0;34m.\u001b[0m\u001b[0mtimeit\u001b[0m\u001b[0;34m(\u001b[0m\u001b[0mnumber\u001b[0m\u001b[0;34m)\u001b[0m\u001b[0;34m\u001b[0m\u001b[0;34m\u001b[0m\u001b[0m\n\u001b[0m\u001b[1;32m   1170\u001b[0m                 \u001b[0;32mif\u001b[0m \u001b[0mtime_number\u001b[0m \u001b[0;34m>=\u001b[0m \u001b[0;36m0.2\u001b[0m\u001b[0;34m:\u001b[0m\u001b[0;34m\u001b[0m\u001b[0;34m\u001b[0m\u001b[0m\n\u001b[1;32m   1171\u001b[0m                     \u001b[0;32mbreak\u001b[0m\u001b[0;34m\u001b[0m\u001b[0;34m\u001b[0m\u001b[0m\n",
      "\u001b[0;32m~/.local/lib/python3.8/site-packages/IPython/core/magics/execution.py\u001b[0m in \u001b[0;36mtimeit\u001b[0;34m(self, number)\u001b[0m\n\u001b[1;32m    167\u001b[0m         \u001b[0mgc\u001b[0m\u001b[0;34m.\u001b[0m\u001b[0mdisable\u001b[0m\u001b[0;34m(\u001b[0m\u001b[0;34m)\u001b[0m\u001b[0;34m\u001b[0m\u001b[0;34m\u001b[0m\u001b[0m\n\u001b[1;32m    168\u001b[0m         \u001b[0;32mtry\u001b[0m\u001b[0;34m:\u001b[0m\u001b[0;34m\u001b[0m\u001b[0;34m\u001b[0m\u001b[0m\n\u001b[0;32m--> 169\u001b[0;31m             \u001b[0mtiming\u001b[0m \u001b[0;34m=\u001b[0m \u001b[0mself\u001b[0m\u001b[0;34m.\u001b[0m\u001b[0minner\u001b[0m\u001b[0;34m(\u001b[0m\u001b[0mit\u001b[0m\u001b[0;34m,\u001b[0m \u001b[0mself\u001b[0m\u001b[0;34m.\u001b[0m\u001b[0mtimer\u001b[0m\u001b[0;34m)\u001b[0m\u001b[0;34m\u001b[0m\u001b[0;34m\u001b[0m\u001b[0m\n\u001b[0m\u001b[1;32m    170\u001b[0m         \u001b[0;32mfinally\u001b[0m\u001b[0;34m:\u001b[0m\u001b[0;34m\u001b[0m\u001b[0;34m\u001b[0m\u001b[0m\n\u001b[1;32m    171\u001b[0m             \u001b[0;32mif\u001b[0m \u001b[0mgcold\u001b[0m\u001b[0;34m:\u001b[0m\u001b[0;34m\u001b[0m\u001b[0;34m\u001b[0m\u001b[0m\n",
      "\u001b[0;32m<magic-timeit>\u001b[0m in \u001b[0;36minner\u001b[0;34m(_it, _timer)\u001b[0m\n",
      "\u001b[0;31mNameError\u001b[0m: name 'knn' is not defined"
     ]
    }
   ],
   "source": [
    "%timeit knn.predict(np.array([X_test[105]]))"
   ]
  },
  {
   "cell_type": "markdown",
   "id": "00310113",
   "metadata": {},
   "source": [
    "# Keras"
   ]
  },
  {
   "cell_type": "code",
   "execution_count": 11,
   "id": "b8192a42",
   "metadata": {},
   "outputs": [],
   "source": [
    "import tensorflow as tf\n",
    "from tensorflow import keras\n",
    "from tensorflow.keras import layers\n",
    "\n",
    "# os.environ[\"CUDA_VISIBLE_DEVICES\"] = \"1\""
   ]
  },
  {
   "cell_type": "code",
   "execution_count": 12,
   "id": "ceecea23",
   "metadata": {},
   "outputs": [
    {
     "data": {
      "text/plain": [
       "[PhysicalDevice(name='/physical_device:GPU:0', device_type='GPU')]"
      ]
     },
     "execution_count": 12,
     "metadata": {},
     "output_type": "execute_result"
    }
   ],
   "source": [
    "tf.config.list_physical_devices('GPU')"
   ]
  },
  {
   "cell_type": "code",
   "execution_count": 13,
   "id": "14db43b5",
   "metadata": {},
   "outputs": [],
   "source": [
    "from keras import backend as K\n",
    "K.clear_session()\n",
    "history1 = None\n",
    "model = None"
   ]
  },
  {
   "cell_type": "code",
   "execution_count": 14,
   "id": "9a3eaa27",
   "metadata": {},
   "outputs": [
    {
     "name": "stderr",
     "output_type": "stream",
     "text": [
      "2021-11-25 13:47:14.702119: I tensorflow/core/platform/cpu_feature_guard.cc:151] This TensorFlow binary is optimized with oneAPI Deep Neural Network Library (oneDNN) to use the following CPU instructions in performance-critical operations:  AVX2 FMA\n",
      "To enable them in other operations, rebuild TensorFlow with the appropriate compiler flags.\n",
      "2021-11-25 13:47:14.703723: I tensorflow/stream_executor/cuda/cuda_gpu_executor.cc:939] successful NUMA node read from SysFS had negative value (-1), but there must be at least one NUMA node, so returning NUMA node zero\n",
      "2021-11-25 13:47:14.704186: I tensorflow/stream_executor/cuda/cuda_gpu_executor.cc:939] successful NUMA node read from SysFS had negative value (-1), but there must be at least one NUMA node, so returning NUMA node zero\n",
      "2021-11-25 13:47:14.704534: I tensorflow/stream_executor/cuda/cuda_gpu_executor.cc:939] successful NUMA node read from SysFS had negative value (-1), but there must be at least one NUMA node, so returning NUMA node zero\n",
      "2021-11-25 13:47:16.325678: I tensorflow/stream_executor/cuda/cuda_gpu_executor.cc:939] successful NUMA node read from SysFS had negative value (-1), but there must be at least one NUMA node, so returning NUMA node zero\n",
      "2021-11-25 13:47:16.326013: I tensorflow/stream_executor/cuda/cuda_gpu_executor.cc:939] successful NUMA node read from SysFS had negative value (-1), but there must be at least one NUMA node, so returning NUMA node zero\n",
      "2021-11-25 13:47:16.326278: I tensorflow/stream_executor/cuda/cuda_gpu_executor.cc:939] successful NUMA node read from SysFS had negative value (-1), but there must be at least one NUMA node, so returning NUMA node zero\n",
      "2021-11-25 13:47:16.327876: I tensorflow/core/common_runtime/gpu/gpu_device.cc:1525] Created device /job:localhost/replica:0/task:0/device:GPU:0 with 1311 MB memory:  -> device: 0, name: NVIDIA GeForce MX150, pci bus id: 0000:01:00.0, compute capability: 6.1\n"
     ]
    }
   ],
   "source": [
    "model = keras.Sequential(\n",
    "    [\n",
    "        keras.Input(shape=(4800,)),\n",
    "        layers.Dropout(.4),\n",
    "        layers.Dense(64, activation=\"relu\", name=\"layer55\"),\n",
    "        layers.Dropout(.4),\n",
    "        layers.Dense(3, name=\"layer6\", activation=\"softmax\"),\n",
    "    ]\n",
    ")"
   ]
  },
  {
   "cell_type": "code",
   "execution_count": 15,
   "id": "a43bdaed",
   "metadata": {},
   "outputs": [
    {
     "name": "stdout",
     "output_type": "stream",
     "text": [
      "Model: \"sequential\"\n",
      "_________________________________________________________________\n",
      " Layer (type)                Output Shape              Param #   \n",
      "=================================================================\n",
      " dropout (Dropout)           (None, 4800)              0         \n",
      "                                                                 \n",
      " layer55 (Dense)             (None, 64)                307264    \n",
      "                                                                 \n",
      " dropout_1 (Dropout)         (None, 64)                0         \n",
      "                                                                 \n",
      " layer6 (Dense)              (None, 3)                 195       \n",
      "                                                                 \n",
      "=================================================================\n",
      "Total params: 307,459\n",
      "Trainable params: 307,459\n",
      "Non-trainable params: 0\n",
      "_________________________________________________________________\n"
     ]
    }
   ],
   "source": [
    "model.summary()"
   ]
  },
  {
   "cell_type": "code",
   "execution_count": 16,
   "id": "5e45c9aa",
   "metadata": {},
   "outputs": [],
   "source": [
    "# loss_fn = keras.losses.categorical_crossentropy()\n",
    "# opt = keras.optimizers.SGD(learning_rate=0.005)\n",
    "model.compile(loss='categorical_crossentropy', optimizer='adam', metrics=['accuracy', 'mse'])"
   ]
  },
  {
   "cell_type": "code",
   "execution_count": 17,
   "id": "3bd4e696",
   "metadata": {},
   "outputs": [
    {
     "name": "stderr",
     "output_type": "stream",
     "text": [
      "2021-11-25 13:47:28.594646: W tensorflow/core/framework/cpu_allocator_impl.cc:82] Allocation of 57144000 exceeds 10% of free system memory.\n"
     ]
    },
    {
     "data": {
      "text/plain": [
       "<tf.Tensor: shape=(11905, 3), dtype=float32, numpy=\n",
       "array([[1.966284e-34, 0.000000e+00, 1.000000e+00],\n",
       "       [0.000000e+00, 0.000000e+00, 1.000000e+00],\n",
       "       [7.737196e-38, 0.000000e+00, 1.000000e+00],\n",
       "       ...,\n",
       "       [0.000000e+00, 7.525690e-29, 1.000000e+00],\n",
       "       [0.000000e+00, 7.525690e-29, 1.000000e+00],\n",
       "       [0.000000e+00, 7.525690e-29, 1.000000e+00]], dtype=float32)>"
      ]
     },
     "execution_count": 17,
     "metadata": {},
     "output_type": "execute_result"
    }
   ],
   "source": [
    "# Call model on a test input\n",
    "y = model(X_test)\n",
    "y"
   ]
  },
  {
   "cell_type": "code",
   "execution_count": 18,
   "id": "5e7d9cca",
   "metadata": {},
   "outputs": [],
   "source": [
    "from sklearn.preprocessing import OneHotEncoder\n",
    "esc = OneHotEncoder()\n",
    "esc.fit(np.array([-1,0,1]).reshape(-1, 1))\n",
    "y_train_os = esc.transform(y_train.reshape(-1,1)).toarray()\n",
    "y_test_os = esc.transform(y_test.reshape(-1,1)).toarray()\n",
    "# es = keras.callbacks.EarlyStopping(monitor='val_accuracy', mode='auto',patience=10)"
   ]
  },
  {
   "cell_type": "code",
   "execution_count": null,
   "id": "e3a44d41",
   "metadata": {
    "scrolled": false
   },
   "outputs": [
    {
     "name": "stderr",
     "output_type": "stream",
     "text": [
      "2021-11-25 13:47:52.369304: W tensorflow/core/framework/cpu_allocator_impl.cc:82] Allocation of 705484800 exceeds 10% of free system memory.\n",
      "2021-11-25 13:47:55.865992: W tensorflow/core/framework/cpu_allocator_impl.cc:82] Allocation of 705484800 exceeds 10% of free system memory.\n"
     ]
    },
    {
     "name": "stdout",
     "output_type": "stream",
     "text": [
      "28039/36744 [=====================>........] - ETA: 18s - loss: 0.4861 - accuracy: 0.8081 - mse: 0.0937"
     ]
    }
   ],
   "source": [
    "n_epochs = 1\n",
    "history1 = model.fit((X_train / 255), y_train_os, validation_split=0.1, batch_size=1, epochs=n_epochs, verbose=1)"
   ]
  },
  {
   "cell_type": "code",
   "execution_count": 71,
   "id": "4c072b35",
   "metadata": {},
   "outputs": [
    {
     "name": "stdout",
     "output_type": "stream",
     "text": [
      "test accuracy: 0.890 bacc: 0.890\n"
     ]
    },
    {
     "data": {
      "image/png": "[encoded data removed]",
      "text/plain": [
       "<Figure size 432x288 with 2 Axes>"
      ]
     },
     "metadata": {
      "needs_background": "light"
     },
     "output_type": "display_data"
    }
   ],
   "source": [
    "y_train_pred_out = model.predict(X_train/255)\n",
    "y_train_pred = np.array([raw.argmax() - 1 for raw in y_train_pred_out])\n",
    "acc = accuracy_score(y_train, y_train_pred)\n",
    "bacc = balanced_accuracy_score(y_train, y_train_pred)\n",
    "print(f'test accuracy: {acc:.3f} bacc: {bacc:.3f}')\n",
    "matrix = confusion_matrix(y_train, y_train_pred)\n",
    "disp=cm.ConfusionMatrixDisplay(confusion_matrix=matrix,\n",
    "                               display_labels=['-1','0','1'])\n",
    "disp.plot(include_values=True, cmap=plt.cm.Blues);"
   ]
  },
  {
   "cell_type": "code",
   "execution_count": 72,
   "id": "c2961677",
   "metadata": {},
   "outputs": [
    {
     "name": "stdout",
     "output_type": "stream",
     "text": [
      "test accuracy: 0.706 bacc: 0.769\n"
     ]
    },
    {
     "data": {
      "image/png": "[encoded data removed]",
      "text/plain": [
       "<Figure size 432x288 with 2 Axes>"
      ]
     },
     "metadata": {
      "needs_background": "light"
     },
     "output_type": "display_data"
    }
   ],
   "source": [
    "y_test_pred_out = model.predict(X_test/255)\n",
    "y_test_pred = np.array([raw.argmax() - 1 for raw in y_test_pred_out])\n",
    "acc = accuracy_score(y_test, y_test_pred)\n",
    "bacc = balanced_accuracy_score(y_test, y_test_pred)\n",
    "print(f'test accuracy: {acc:.3f} bacc: {bacc:.3f}')\n",
    "matrix = confusion_matrix(y_test, y_test_pred)\n",
    "disp=cm.ConfusionMatrixDisplay(confusion_matrix=matrix,\n",
    "                               display_labels=['-1','0','1'])\n",
    "disp.plot(include_values=True, cmap=plt.cm.Blues);"
   ]
  },
  {
   "cell_type": "code",
   "execution_count": 68,
   "id": "d69cefe7",
   "metadata": {
    "scrolled": false
   },
   "outputs": [
    {
     "name": "stdout",
     "output_type": "stream",
     "text": [
      "pred\n",
      "1\n",
      "true\n",
      "0\n"
     ]
    },
    {
     "data": {
      "image/png": "[encoded data removed]",
      "text/plain": [
       "<Figure size 432x288 with 1 Axes>"
      ]
     },
     "metadata": {
      "needs_background": "light"
     },
     "output_type": "display_data"
    },
    {
     "data": {
      "image/png": "[encoded data removed]",
      "text/plain": [
       "<Figure size 432x288 with 1 Axes>"
      ]
     },
     "metadata": {
      "needs_background": "light"
     },
     "output_type": "display_data"
    }
   ],
   "source": [
    "errors = np.where(y_test_pred != y_test)[0]\n",
    "i = np.random.choice(errors)\n",
    "print(\"pred\")\n",
    "print(y_test_pred[i])\n",
    "print('true')\n",
    "print(y_test[i])\n",
    "dispIm(X_test_originals[i])\n",
    "dispIm(X_test_images[i])"
   ]
  },
  {
   "cell_type": "code",
   "execution_count": 69,
   "id": "c914a047",
   "metadata": {},
   "outputs": [],
   "source": [
    "model.save('../models/daniel_dense_new_v1.h5')"
   ]
  },
  {
   "cell_type": "markdown",
   "id": "3a16e4d8",
   "metadata": {},
   "source": [
    "# CNN"
   ]
  },
  {
   "cell_type": "code",
   "execution_count": 235,
   "id": "e92e5b7e",
   "metadata": {},
   "outputs": [],
   "source": [
    "K.clear_session()\n",
    "history2 = None\n",
    "model2 = None"
   ]
  },
  {
   "cell_type": "code",
   "execution_count": 236,
   "id": "459955c6",
   "metadata": {},
   "outputs": [
    {
     "data": {
      "text/plain": [
       "(11905, 60, 80, 3)"
      ]
     },
     "execution_count": 236,
     "metadata": {},
     "output_type": "execute_result"
    }
   ],
   "source": [
    "X_test_originals.shape"
   ]
  },
  {
   "cell_type": "code",
   "execution_count": 237,
   "id": "7d6b57bf",
   "metadata": {},
   "outputs": [],
   "source": [
    "model2 = keras.Sequential()\n",
    "model2.add(keras.layers.Conv2D(8, (5, 5), activation='relu'))\n",
    "model2.add(keras.layers.MaxPooling2D((3, 3)))\n",
    "model2.add(keras.layers.Conv2D(16, (3, 3), activation='relu'))\n",
    "model2.add(keras.layers.MaxPooling2D((2, 2)))\n",
    "model2.add(keras.layers.Conv2D(8, (2, 2), activation='relu'))\n",
    "model2.add(keras.layers.Flatten())\n",
    "model2.add(layers.Dropout(.4))\n",
    "model2.add(keras.layers.Dense(64, activation='relu'))\n",
    "model2.add(layers.Dropout(.4))\n",
    "model2.add(layers.Dense(3, activation='softmax'))"
   ]
  },
  {
   "cell_type": "code",
   "execution_count": 238,
   "id": "55f20322",
   "metadata": {},
   "outputs": [],
   "source": [
    "# model2.summary()"
   ]
  },
  {
   "cell_type": "code",
   "execution_count": 239,
   "id": "fd4762df",
   "metadata": {},
   "outputs": [],
   "source": [
    "model2.compile(loss='categorical_crossentropy', optimizer='adam', metrics=['accuracy', 'mse'])"
   ]
  },
  {
   "cell_type": "code",
   "execution_count": 240,
   "id": "315bc758",
   "metadata": {},
   "outputs": [
    {
     "data": {
      "text/plain": [
       "(40827, 60, 80)"
      ]
     },
     "execution_count": 240,
     "metadata": {},
     "output_type": "execute_result"
    }
   ],
   "source": [
    "X_train_images.shape"
   ]
  },
  {
   "cell_type": "code",
   "execution_count": 266,
   "id": "fc974433",
   "metadata": {
    "scrolled": false
   },
   "outputs": [
    {
     "name": "stdout",
     "output_type": "stream",
     "text": [
      "36744/36744 [==============================] - 55s 2ms/step - loss: 0.3855 - accuracy: 0.8402 - mse: 0.0783 - val_loss: 0.3271 - val_accuracy: 0.8577 - val_mse: 0.0683\n"
     ]
    }
   ],
   "source": [
    "n_epochs = 1\n",
    "X_t = X_train_images.reshape(-1,60,80,1)\n",
    "history2 = model2.fit((X_t / 255), y_train_os, validation_split=0.1, batch_size=1, epochs=n_epochs, verbose=1)"
   ]
  },
  {
   "cell_type": "code",
   "execution_count": 267,
   "id": "2784d1df",
   "metadata": {},
   "outputs": [
    {
     "name": "stdout",
     "output_type": "stream",
     "text": [
      "[[2.2543368e-06 9.9995065e-01 4.7118469e-05]\n",
      " [4.3169206e-07 9.9992990e-01 6.9657188e-05]\n",
      " [2.0590882e-05 9.9983931e-01 1.3999557e-04]\n",
      " ...\n",
      " [8.1140471e-01 1.8847135e-01 1.2391325e-04]\n",
      " [8.1140471e-01 1.8847135e-01 1.2391325e-04]\n",
      " [8.1140471e-01 1.8847135e-01 1.2391325e-04]]\n",
      "test accuracy: 0.699 bacc: 0.795\n"
     ]
    },
    {
     "data": {
      "image/png": "[encoded data removed]",
      "text/plain": [
       "<Figure size 432x288 with 2 Axes>"
      ]
     },
     "metadata": {
      "needs_background": "light"
     },
     "output_type": "display_data"
    }
   ],
   "source": [
    "y_test_pred_out = model2.predict(X_test_images.reshape(-1,60,80,1)/255)\n",
    "print(y_test_pred_out)\n",
    "y_test_pred = np.array([raw.argmax() - 1 for raw in y_test_pred_out])\n",
    "acc = accuracy_score(y_test, y_test_pred)\n",
    "bacc = balanced_accuracy_score(y_test, y_test_pred)\n",
    "print(f'test accuracy: {acc:.3f} bacc: {bacc:.3f}')\n",
    "matrix = confusion_matrix(y_test, y_test_pred)\n",
    "disp=cm.ConfusionMatrixDisplay(confusion_matrix=matrix,\n",
    "                               display_labels=['-1','0','1'])\n",
    "disp.plot(include_values=True, cmap=plt.cm.Blues);"
   ]
  },
  {
   "cell_type": "code",
   "execution_count": 273,
   "id": "f776a54d",
   "metadata": {},
   "outputs": [
    {
     "name": "stdout",
     "output_type": "stream",
     "text": [
      "pred\n",
      "1\n",
      "true\n",
      "0\n"
     ]
    },
    {
     "data": {
      "image/png": "[encoded data removed]",
      "text/plain": [
       "<Figure size 432x288 with 1 Axes>"
      ]
     },
     "metadata": {
      "needs_background": "light"
     },
     "output_type": "display_data"
    }
   ],
   "source": [
    "errors = np.where(y_test_pred != y_test)[0]\n",
    "i = np.random.choice(errors)\n",
    "print(\"pred\")\n",
    "print(y_test_pred[i])\n",
    "print('true')\n",
    "print(y_test[i])\n",
    "dispIm(X_test_images[i])"
   ]
  },
  {
   "cell_type": "code",
   "execution_count": 247,
   "id": "38be9262",
   "metadata": {},
   "outputs": [],
   "source": [
    "model2.save('../models/daniel_cnn_bmxr_v1.h5')"
   ]
  },
  {
   "cell_type": "code",
   "execution_count": null,
   "id": "c0d8cbce",
   "metadata": {},
   "outputs": [],
   "source": []
  }
 ],
 "metadata": {
  "interpreter": {
   "hash": "9b95e98d7e0a790c9115c2aad4f5e776f7ce9a80d74fce01691f52f837521a31"
  },
  "kernelspec": {
   "display_name": "Python 3 (ipykernel)",
   "language": "python",
   "name": "python3"
  },
  "language_info": {
   "codemirror_mode": {
    "name": "ipython",
    "version": 3
   },
   "file_extension": ".py",
   "mimetype": "text/x-python",
   "name": "python",
   "nbconvert_exporter": "python",
   "pygments_lexer": "ipython3",
   "version": "3.8.10"
  }
 },
 "nbformat": 4,
 "nbformat_minor": 5
}
