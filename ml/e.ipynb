{
 "cells": [
  {
   "cell_type": "code",
   "execution_count": 1,
   "id": "ff43abca",
   "metadata": {},
   "outputs": [],
   "source": [
    "import numpy as np\n",
    "import cv2\n",
    "from matplotlib import pyplot as plt\n",
    "import pandas as pd\n",
    "import os"
   ]
  },
  {
   "cell_type": "code",
   "execution_count": 2,
   "id": "a47225af",
   "metadata": {
    "scrolled": false
   },
   "outputs": [
    {
     "data": {
      "text/html": [
       "<div>\n",
       "<style scoped>\n",
       "    .dataframe tbody tr th:only-of-type {\n",
       "        vertical-align: middle;\n",
       "    }\n",
       "\n",
       "    .dataframe tbody tr th {\n",
       "        vertical-align: top;\n",
       "    }\n",
       "\n",
       "    .dataframe thead th {\n",
       "        text-align: right;\n",
       "    }\n",
       "</style>\n",
       "<table border=\"1\" class=\"dataframe\">\n",
       "  <thead>\n",
       "    <tr style=\"text-align: right;\">\n",
       "      <th></th>\n",
       "      <th>timestamp</th>\n",
       "      <th>forward/backward</th>\n",
       "      <th>left/right</th>\n",
       "    </tr>\n",
       "  </thead>\n",
       "  <tbody>\n",
       "    <tr>\n",
       "      <th>0</th>\n",
       "      <td>1635397362670</td>\n",
       "      <td>0</td>\n",
       "      <td>0</td>\n",
       "    </tr>\n",
       "    <tr>\n",
       "      <th>1</th>\n",
       "      <td>1635397362796</td>\n",
       "      <td>0</td>\n",
       "      <td>0</td>\n",
       "    </tr>\n",
       "    <tr>\n",
       "      <th>2</th>\n",
       "      <td>1635397362833</td>\n",
       "      <td>0</td>\n",
       "      <td>0</td>\n",
       "    </tr>\n",
       "    <tr>\n",
       "      <th>3</th>\n",
       "      <td>1635397362903</td>\n",
       "      <td>0</td>\n",
       "      <td>0</td>\n",
       "    </tr>\n",
       "    <tr>\n",
       "      <th>4</th>\n",
       "      <td>1635397362957</td>\n",
       "      <td>0</td>\n",
       "      <td>0</td>\n",
       "    </tr>\n",
       "    <tr>\n",
       "      <th>...</th>\n",
       "      <td>...</td>\n",
       "      <td>...</td>\n",
       "      <td>...</td>\n",
       "    </tr>\n",
       "    <tr>\n",
       "      <th>2746</th>\n",
       "      <td>1635397501683</td>\n",
       "      <td>0</td>\n",
       "      <td>0</td>\n",
       "    </tr>\n",
       "    <tr>\n",
       "      <th>2747</th>\n",
       "      <td>1635397501730</td>\n",
       "      <td>0</td>\n",
       "      <td>0</td>\n",
       "    </tr>\n",
       "    <tr>\n",
       "      <th>2748</th>\n",
       "      <td>1635397501770</td>\n",
       "      <td>0</td>\n",
       "      <td>0</td>\n",
       "    </tr>\n",
       "    <tr>\n",
       "      <th>2749</th>\n",
       "      <td>1635397501856</td>\n",
       "      <td>0</td>\n",
       "      <td>0</td>\n",
       "    </tr>\n",
       "    <tr>\n",
       "      <th>2750</th>\n",
       "      <td>1635397501900</td>\n",
       "      <td>0</td>\n",
       "      <td>0</td>\n",
       "    </tr>\n",
       "  </tbody>\n",
       "</table>\n",
       "<p>2751 rows × 3 columns</p>\n",
       "</div>"
      ],
      "text/plain": [
       "          timestamp  forward/backward  left/right\n",
       "0     1635397362670                 0           0\n",
       "1     1635397362796                 0           0\n",
       "2     1635397362833                 0           0\n",
       "3     1635397362903                 0           0\n",
       "4     1635397362957                 0           0\n",
       "...             ...               ...         ...\n",
       "2746  1635397501683                 0           0\n",
       "2747  1635397501730                 0           0\n",
       "2748  1635397501770                 0           0\n",
       "2749  1635397501856                 0           0\n",
       "2750  1635397501900                 0           0\n",
       "\n",
       "[2751 rows x 3 columns]"
      ]
     },
     "execution_count": 2,
     "metadata": {},
     "output_type": "execute_result"
    }
   ],
   "source": [
    "labelsCsv = pd.read_csv('data4/labels.csv')\n",
    "labelsCsv"
   ]
  },
  {
   "cell_type": "code",
   "execution_count": 3,
   "id": "97852528",
   "metadata": {},
   "outputs": [],
   "source": [
    "labelsThatExists = [i for i in range(len(labelsCsv)) if os.path.exists(f'data4/images/img_{labelsCsv[\"timestamp\"][i]}.jpeg')]\n",
    "lExists = set(labelsThatExists)"
   ]
  },
  {
   "cell_type": "code",
   "execution_count": 4,
   "id": "f9fa20d0",
   "metadata": {},
   "outputs": [],
   "source": [
    "def getCv2ImgAtIndex(index, labelsCsv):\n",
    "    ts = labelsCsv['timestamp'][index]\n",
    "    if not os.path.exists(f'data4/images/img_{ts}.jpeg'):\n",
    "         return np.array([])\n",
    "    img = cv2.imread(f'data4/images/img_{ts}.jpeg')\n",
    "    rgb_img = cv2.cvtColor(img, cv2.COLOR_BGR2RGB)\n",
    "    return rgb_img"
   ]
  },
  {
   "cell_type": "code",
   "execution_count": 5,
   "id": "5bab9848",
   "metadata": {},
   "outputs": [],
   "source": [
    "def dispIm(im, label=\"pic\"):\n",
    "    plt.imshow(im)\n",
    "    plt.title(label)\n",
    "    plt.show()\n",
    "\n",
    "def dispGSIm(im, label='pic'):\n",
    "    plt.imshow(im, cmap='gray', vmin = 0, vmax = 255,interpolation='none')\n",
    "    plt.title(label)\n",
    "    plt.show()"
   ]
  },
  {
   "cell_type": "code",
   "execution_count": 6,
   "id": "8bccc218",
   "metadata": {},
   "outputs": [],
   "source": [
    "diff = 14"
   ]
  },
  {
   "cell_type": "code",
   "execution_count": 25,
   "id": "cedd51c9",
   "metadata": {},
   "outputs": [],
   "source": [
    "def processIm(im):\n",
    "    im = cv2.cvtColor(im, cv2.COLOR_RGB2GRAY)\n",
    "#     im = cv2.blur(im, (2,2))\n",
    "    #e,im = cv2.threshold(im, 200, 255, cv2.THRESH_BINARY)\n",
    "#im = cv2.equalizeHist(im)\n",
    "    im = cv2.resize(im, (80,60))\n",
    "#     e,im = cv2.threshold(im, 226, 255, cv2.THRESH_BINARY)\n",
    "    return im"
   ]
  },
  {
   "cell_type": "code",
   "execution_count": 26,
   "id": "b18d58c8",
   "metadata": {},
   "outputs": [],
   "source": [
    "def shiftIm(im,verbose=False):\n",
    "    height = im.shape[0]\n",
    "    width = im.shape[1]\n",
    "\n",
    "    topLeft = [20,60 - diff]\n",
    "    topRight = [(width - 1 - 20),60 - diff]\n",
    "    bottomRight = [width -1,height-1]\n",
    "    bottomLeft = [0,height - 1]\n",
    "    \n",
    "    if verbose:\n",
    "        x = [topLeft[0],topRight[0], bottomRight[0], bottomLeft[0], topLeft[0]]\n",
    "        y = [topLeft[1],topRight[1], bottomRight[1], bottomLeft[1], topLeft[1]]\n",
    "        plt.plot(x, y, color=\"#34eb40\", linewidth=3)\n",
    "        plt.imshow(im, cmap='gray', vmin = 0, vmax = 255,interpolation='none')\n",
    "        plt.title('e')\n",
    "        plt.show()\n",
    "\n",
    "    srcMat = np.float32([topLeft, topRight, bottomRight, bottomLeft])\n",
    "    destMat = np.float32([[0,0], [width - 1, 0], [width - 1, height -1], [0, height -1]])\n",
    "    transMat = cv2.getPerspectiveTransform(srcMat, destMat)\n",
    "    result = cv2.warpPerspective(im, transMat, (width, height))\n",
    "    return result"
   ]
  },
  {
   "cell_type": "code",
   "execution_count": 27,
   "id": "b0f95c02",
   "metadata": {},
   "outputs": [],
   "source": [
    "def cropImage(im):\n",
    "    return im[(im.shape[0]//2):im.shape[0],0:im.shape[1]]"
   ]
  },
  {
   "cell_type": "code",
   "execution_count": 29,
   "id": "2a5eae98",
   "metadata": {
    "scrolled": false
   },
   "outputs": [
    {
     "data": {
      "image/png": "[encoded data removed]",
      "text/plain": [
       "<Figure size 432x288 with 1 Axes>"
      ]
     },
     "metadata": {
      "needs_background": "light"
     },
     "output_type": "display_data"
    },
    {
     "name": "stdout",
     "output_type": "stream",
     "text": [
      "(30, 80)\n"
     ]
    },
    {
     "data": {
      "image/png": "[encoded data removed]",
      "text/plain": [
       "<Figure size 432x288 with 1 Axes>"
      ]
     },
     "metadata": {
      "needs_background": "light"
     },
     "output_type": "display_data"
    }
   ],
   "source": [
    "im = processIm(getCv2ImgAtIndex(1430,labelsCsv))\n",
    "# print(im)\n",
    "dispGSIm(im,'og')\n",
    "# result = shiftIm(im,True)\n",
    "# dispGSIm(result, 'shifted')\n",
    "print(cropImage(im).shape)\n",
    "# m = cv2.cvtColor(im, cv2.COLOR_RGB2GRAY)\n",
    "# r = im[:,:,0]\n",
    "# g = im[:,:,1]\n",
    "# b = im[:,:,2]\n",
    "# print(b)\n",
    "# print('---')\n",
    "# print(g)\n",
    "# print('---')\n",
    "# print(r)\n",
    "# rm = 1\n",
    "# e,im3 = cv2.threshold(cv2.subtract(b,cv2.multiply(rm,r)), 60, 255, cv2.THRESH_BINARY)\n",
    "# dispGSIm(b,'b')\n",
    "# dispGSIm(g,'g')\n",
    "# dispGSIm(r,'r')\n",
    "# dispGSIm(cv2.subtract(b,cv2.multiply(rm,r)),'subtract no thresh')\n",
    "# dispGSIm(im3, 'sub')\n",
    "# e,im2 = cv2.threshold(m, 200, 255, cv2.THRESH_BINARY)\n",
    "# dispGSIm(im2, 'thresh')\n",
    "\n",
    "dispGSIm(cropImage(im), 'cropped')"
   ]
  },
  {
   "cell_type": "code",
   "execution_count": 30,
   "id": "7273d1d5",
   "metadata": {},
   "outputs": [
    {
     "name": "stdout",
     "output_type": "stream",
     "text": [
      "(2578, 2400)\n"
     ]
    }
   ],
   "source": [
    "imageArray = np.array([cropImage(processIm(getCv2ImgAtIndex(i,labelsCsv))).flatten() for i in labelsThatExists])\n",
    "leftRightArray = np.array([labelsCsv['left/right'][i] for i in labelsThatExists])\n",
    "print(imageArray.shape)\n",
    "left = -1\n",
    "right = 1\n",
    "straight = 0"
   ]
  },
  {
   "cell_type": "code",
   "execution_count": 47,
   "id": "acc32f06",
   "metadata": {},
   "outputs": [],
   "source": [
    "from sklearn.neighbors import NearestNeighbors\n",
    "from sklearn.model_selection import train_test_split\n",
    "X_train, X_test, y_train, y_test = train_test_split(imageArray, leftRightArray, test_size=0.5, shuffle=True, random_state=32)"
   ]
  },
  {
   "cell_type": "code",
   "execution_count": 56,
   "id": "fd4c62d8",
   "metadata": {},
   "outputs": [],
   "source": [
    "def classSizeLimitedTraining(X_test, y_test):\n",
    "    yLInd = np.where(y_test == left)[0]\n",
    "    yRInd = np.where(y_test == right)[0]\n",
    "    ySInd = np.where(y_test == straight)[0]\n",
    "    classSize = min(len(yLInd), len(yRInd), len(ySInd))\n",
    "    np.random.seed(39)\n",
    "    cl = np.random.permutation(yLInd)[:classSize]\n",
    "    cr = np.random.permutation(yRInd)[:classSize]\n",
    "    cs = np.random.permutation(ySInd)[:classSize]\n",
    "    y_new = np.concatenate([y_test[cl],y_test[cr],y_test[cs]])\n",
    "    X_new = np.concatenate([X_test[cl],X_test[cr],X_test[cs]])\n",
    "    return X_new, y_new"
   ]
  },
  {
   "cell_type": "code",
   "execution_count": 57,
   "id": "caa54a31",
   "metadata": {},
   "outputs": [],
   "source": [
    "X_s_train, y_s_train = classSizeLimitedTraining(X_train, y_train)\n",
    "X_s_test, y_s_test = classSizeLimitedTraining(X_test, y_test)"
   ]
  },
  {
   "cell_type": "code",
   "execution_count": 58,
   "id": "2f65d108",
   "metadata": {},
   "outputs": [
    {
     "data": {
      "text/plain": [
       "(537,)"
      ]
     },
     "execution_count": 58,
     "metadata": {},
     "output_type": "execute_result"
    }
   ],
   "source": [
    "y_s_train.shape"
   ]
  },
  {
   "cell_type": "markdown",
   "id": "e533b1bb",
   "metadata": {},
   "source": [
    "# K-NearestNeighbours"
   ]
  },
  {
   "cell_type": "code",
   "execution_count": 59,
   "id": "e1f13775",
   "metadata": {},
   "outputs": [
    {
     "data": {
      "text/plain": [
       "KNeighborsClassifier(n_neighbors=1)"
      ]
     },
     "execution_count": 59,
     "metadata": {},
     "output_type": "execute_result"
    }
   ],
   "source": [
    "from sklearn.neighbors import KNeighborsClassifier\n",
    "knn = KNeighborsClassifier(n_neighbors=1)\n",
    "knn.fit(X_s_train, y_s_train)"
   ]
  },
  {
   "cell_type": "code",
   "execution_count": 60,
   "id": "79c149d4",
   "metadata": {},
   "outputs": [],
   "source": [
    "y_predict = knn.predict(X_s_test)"
   ]
  },
  {
   "cell_type": "code",
   "execution_count": 61,
   "id": "7a1af07e",
   "metadata": {},
   "outputs": [
    {
     "name": "stdout",
     "output_type": "stream",
     "text": [
      "test accuracy: 0.797\n"
     ]
    }
   ],
   "source": [
    "from sklearn.metrics import accuracy_score\n",
    "acc = accuracy_score(y_s_test, y_predict)\n",
    "print(f'test accuracy: {acc:.3f}')"
   ]
  },
  {
   "cell_type": "code",
   "execution_count": 55,
   "id": "bd4592a2",
   "metadata": {},
   "outputs": [
    {
     "ename": "ValueError",
     "evalue": "Found input variables with inconsistent numbers of samples: [1289, 513]",
     "output_type": "error",
     "traceback": [
      "\u001b[0;31m---------------------------------------------------------------------------\u001b[0m",
      "\u001b[0;31mValueError\u001b[0m                                Traceback (most recent call last)",
      "\u001b[0;32m/tmp/ipykernel_12207/3670937818.py\u001b[0m in \u001b[0;36m<module>\u001b[0;34m\u001b[0m\n\u001b[1;32m      1\u001b[0m \u001b[0;32mfrom\u001b[0m \u001b[0msklearn\u001b[0m\u001b[0;34m.\u001b[0m\u001b[0mmetrics\u001b[0m \u001b[0;32mimport\u001b[0m \u001b[0mconfusion_matrix\u001b[0m\u001b[0;34m\u001b[0m\u001b[0;34m\u001b[0m\u001b[0m\n\u001b[0;32m----> 2\u001b[0;31m \u001b[0mmatrix\u001b[0m \u001b[0;34m=\u001b[0m \u001b[0mconfusion_matrix\u001b[0m\u001b[0;34m(\u001b[0m\u001b[0my_test\u001b[0m\u001b[0;34m,\u001b[0m \u001b[0my_predict\u001b[0m\u001b[0;34m)\u001b[0m\u001b[0;34m\u001b[0m\u001b[0;34m\u001b[0m\u001b[0m\n\u001b[0m\u001b[1;32m      3\u001b[0m \u001b[0;32mfrom\u001b[0m \u001b[0msklearn\u001b[0m\u001b[0;34m.\u001b[0m\u001b[0mmetrics\u001b[0m\u001b[0;34m.\u001b[0m\u001b[0m_plot\u001b[0m \u001b[0;32mimport\u001b[0m \u001b[0mconfusion_matrix\u001b[0m \u001b[0;32mas\u001b[0m \u001b[0mcm\u001b[0m\u001b[0;34m\u001b[0m\u001b[0;34m\u001b[0m\u001b[0m\n\u001b[1;32m      4\u001b[0m disp=cm.ConfusionMatrixDisplay(confusion_matrix=matrix,\n\u001b[1;32m      5\u001b[0m                                display_labels=['-1','0','1'])\n",
      "\u001b[0;32m~/.local/lib/python3.7/site-packages/sklearn/utils/validation.py\u001b[0m in \u001b[0;36minner_f\u001b[0;34m(*args, **kwargs)\u001b[0m\n\u001b[1;32m     61\u001b[0m             \u001b[0mextra_args\u001b[0m \u001b[0;34m=\u001b[0m \u001b[0mlen\u001b[0m\u001b[0;34m(\u001b[0m\u001b[0margs\u001b[0m\u001b[0;34m)\u001b[0m \u001b[0;34m-\u001b[0m \u001b[0mlen\u001b[0m\u001b[0;34m(\u001b[0m\u001b[0mall_args\u001b[0m\u001b[0;34m)\u001b[0m\u001b[0;34m\u001b[0m\u001b[0;34m\u001b[0m\u001b[0m\n\u001b[1;32m     62\u001b[0m             \u001b[0;32mif\u001b[0m \u001b[0mextra_args\u001b[0m \u001b[0;34m<=\u001b[0m \u001b[0;36m0\u001b[0m\u001b[0;34m:\u001b[0m\u001b[0;34m\u001b[0m\u001b[0;34m\u001b[0m\u001b[0m\n\u001b[0;32m---> 63\u001b[0;31m                 \u001b[0;32mreturn\u001b[0m \u001b[0mf\u001b[0m\u001b[0;34m(\u001b[0m\u001b[0;34m*\u001b[0m\u001b[0margs\u001b[0m\u001b[0;34m,\u001b[0m \u001b[0;34m**\u001b[0m\u001b[0mkwargs\u001b[0m\u001b[0;34m)\u001b[0m\u001b[0;34m\u001b[0m\u001b[0;34m\u001b[0m\u001b[0m\n\u001b[0m\u001b[1;32m     64\u001b[0m \u001b[0;34m\u001b[0m\u001b[0m\n\u001b[1;32m     65\u001b[0m             \u001b[0;31m# extra_args > 0\u001b[0m\u001b[0;34m\u001b[0m\u001b[0;34m\u001b[0m\u001b[0;34m\u001b[0m\u001b[0m\n",
      "\u001b[0;32m~/.local/lib/python3.7/site-packages/sklearn/metrics/_classification.py\u001b[0m in \u001b[0;36mconfusion_matrix\u001b[0;34m(y_true, y_pred, labels, sample_weight, normalize)\u001b[0m\n\u001b[1;32m    297\u001b[0m \u001b[0;34m\u001b[0m\u001b[0m\n\u001b[1;32m    298\u001b[0m     \"\"\"\n\u001b[0;32m--> 299\u001b[0;31m     \u001b[0my_type\u001b[0m\u001b[0;34m,\u001b[0m \u001b[0my_true\u001b[0m\u001b[0;34m,\u001b[0m \u001b[0my_pred\u001b[0m \u001b[0;34m=\u001b[0m \u001b[0m_check_targets\u001b[0m\u001b[0;34m(\u001b[0m\u001b[0my_true\u001b[0m\u001b[0;34m,\u001b[0m \u001b[0my_pred\u001b[0m\u001b[0;34m)\u001b[0m\u001b[0;34m\u001b[0m\u001b[0;34m\u001b[0m\u001b[0m\n\u001b[0m\u001b[1;32m    300\u001b[0m     \u001b[0;32mif\u001b[0m \u001b[0my_type\u001b[0m \u001b[0;32mnot\u001b[0m \u001b[0;32min\u001b[0m \u001b[0;34m(\u001b[0m\u001b[0;34m\"binary\"\u001b[0m\u001b[0;34m,\u001b[0m \u001b[0;34m\"multiclass\"\u001b[0m\u001b[0;34m)\u001b[0m\u001b[0;34m:\u001b[0m\u001b[0;34m\u001b[0m\u001b[0;34m\u001b[0m\u001b[0m\n\u001b[1;32m    301\u001b[0m         \u001b[0;32mraise\u001b[0m \u001b[0mValueError\u001b[0m\u001b[0;34m(\u001b[0m\u001b[0;34m\"%s is not supported\"\u001b[0m \u001b[0;34m%\u001b[0m \u001b[0my_type\u001b[0m\u001b[0;34m)\u001b[0m\u001b[0;34m\u001b[0m\u001b[0;34m\u001b[0m\u001b[0m\n",
      "\u001b[0;32m~/.local/lib/python3.7/site-packages/sklearn/metrics/_classification.py\u001b[0m in \u001b[0;36m_check_targets\u001b[0;34m(y_true, y_pred)\u001b[0m\n\u001b[1;32m     81\u001b[0m     \u001b[0my_pred\u001b[0m \u001b[0;34m:\u001b[0m \u001b[0marray\u001b[0m \u001b[0;32mor\u001b[0m \u001b[0mindicator\u001b[0m \u001b[0mmatrix\u001b[0m\u001b[0;34m\u001b[0m\u001b[0;34m\u001b[0m\u001b[0m\n\u001b[1;32m     82\u001b[0m     \"\"\"\n\u001b[0;32m---> 83\u001b[0;31m     \u001b[0mcheck_consistent_length\u001b[0m\u001b[0;34m(\u001b[0m\u001b[0my_true\u001b[0m\u001b[0;34m,\u001b[0m \u001b[0my_pred\u001b[0m\u001b[0;34m)\u001b[0m\u001b[0;34m\u001b[0m\u001b[0;34m\u001b[0m\u001b[0m\n\u001b[0m\u001b[1;32m     84\u001b[0m     \u001b[0mtype_true\u001b[0m \u001b[0;34m=\u001b[0m \u001b[0mtype_of_target\u001b[0m\u001b[0;34m(\u001b[0m\u001b[0my_true\u001b[0m\u001b[0;34m)\u001b[0m\u001b[0;34m\u001b[0m\u001b[0;34m\u001b[0m\u001b[0m\n\u001b[1;32m     85\u001b[0m     \u001b[0mtype_pred\u001b[0m \u001b[0;34m=\u001b[0m \u001b[0mtype_of_target\u001b[0m\u001b[0;34m(\u001b[0m\u001b[0my_pred\u001b[0m\u001b[0;34m)\u001b[0m\u001b[0;34m\u001b[0m\u001b[0;34m\u001b[0m\u001b[0m\n",
      "\u001b[0;32m~/.local/lib/python3.7/site-packages/sklearn/utils/validation.py\u001b[0m in \u001b[0;36mcheck_consistent_length\u001b[0;34m(*arrays)\u001b[0m\n\u001b[1;32m    318\u001b[0m     \u001b[0;32mif\u001b[0m \u001b[0mlen\u001b[0m\u001b[0;34m(\u001b[0m\u001b[0muniques\u001b[0m\u001b[0;34m)\u001b[0m \u001b[0;34m>\u001b[0m \u001b[0;36m1\u001b[0m\u001b[0;34m:\u001b[0m\u001b[0;34m\u001b[0m\u001b[0;34m\u001b[0m\u001b[0m\n\u001b[1;32m    319\u001b[0m         raise ValueError(\"Found input variables with inconsistent numbers of\"\n\u001b[0;32m--> 320\u001b[0;31m                          \" samples: %r\" % [int(l) for l in lengths])\n\u001b[0m\u001b[1;32m    321\u001b[0m \u001b[0;34m\u001b[0m\u001b[0m\n\u001b[1;32m    322\u001b[0m \u001b[0;34m\u001b[0m\u001b[0m\n",
      "\u001b[0;31mValueError\u001b[0m: Found input variables with inconsistent numbers of samples: [1289, 513]"
     ]
    }
   ],
   "source": [
    "from sklearn.metrics import confusion_matrix\n",
    "matrix = confusion_matrix(y_test, y_predict)\n",
    "from sklearn.metrics._plot import confusion_matrix as cm\n",
    "disp=cm.ConfusionMatrixDisplay(confusion_matrix=matrix,\n",
    "                               display_labels=['-1','0','1'])\n",
    "disp.plot(include_values=True, cmap=plt.cm.Blues);"
   ]
  },
  {
   "cell_type": "code",
   "execution_count": 46,
   "id": "eb74a394",
   "metadata": {},
   "outputs": [],
   "source": [
    "import pickle\n",
    "save_file_name = 'knn_serialized.pickle'\n",
    "\n",
    "with open(save_file_name, 'wb') as f:\n",
    "    pickle.dump(knn, f)"
   ]
  },
  {
   "cell_type": "code",
   "execution_count": 535,
   "id": "353e0630",
   "metadata": {},
   "outputs": [],
   "source": [
    "knn_save = pickle.load(open(save_file_name, 'rb'))"
   ]
  },
  {
   "cell_type": "code",
   "execution_count": 536,
   "id": "c79d96b9",
   "metadata": {},
   "outputs": [
    {
     "data": {
      "text/plain": [
       "0.6868217054263566"
      ]
     },
     "execution_count": 536,
     "metadata": {},
     "output_type": "execute_result"
    }
   ],
   "source": [
    "knn_save.score(X_test, y_test)"
   ]
  },
  {
   "cell_type": "code",
   "execution_count": 537,
   "id": "5e4586e4",
   "metadata": {},
   "outputs": [
    {
     "name": "stdout",
     "output_type": "stream",
     "text": [
      "CPU times: user 34.5 ms, sys: 38.9 ms, total: 73.4 ms\n",
      "Wall time: 39.5 ms\n"
     ]
    },
    {
     "data": {
      "text/plain": [
       "array([0])"
      ]
     },
     "execution_count": 537,
     "metadata": {},
     "output_type": "execute_result"
    }
   ],
   "source": [
    "%%time\n",
    "knn.predict([imageArray[0]])"
   ]
  },
  {
   "cell_type": "markdown",
   "id": "d3a8c727",
   "metadata": {},
   "source": [
    "# Class Means"
   ]
  },
  {
   "cell_type": "code",
   "execution_count": 538,
   "id": "2408adc8",
   "metadata": {},
   "outputs": [
    {
     "data": {
      "image/png": "[encoded data removed]",
      "text/plain": [
       "<Figure size 432x288 with 1 Axes>"
      ]
     },
     "metadata": {
      "needs_background": "light"
     },
     "output_type": "display_data"
    },
    {
     "data": {
      "image/png": "[encoded data removed]",
      "text/plain": [
       "<Figure size 432x288 with 1 Axes>"
      ]
     },
     "metadata": {
      "needs_background": "light"
     },
     "output_type": "display_data"
    },
    {
     "data": {
      "image/png": "[encoded data removed]",
      "text/plain": [
       "<Figure size 432x288 with 1 Axes>"
      ]
     },
     "metadata": {
      "needs_background": "light"
     },
     "output_type": "display_data"
    }
   ],
   "source": [
    "leftIndices = np.where(y_train == left)[0]\n",
    "rightIndices = np.where(y_train == right)[0]\n",
    "straightIndices = np.where(y_train == straight)[0]\n",
    "\n",
    "leftMean = np.mean(X_train[leftIndices],axis=0)\n",
    "rightMean = np.mean(X_train[rightIndices],axis=0)\n",
    "straightMean = np.mean(X_train[straightIndices],axis=0)\n",
    "dispGSIm(np.reshape(leftMean, (30,80)), 'left class mean')\n",
    "dispGSIm(np.reshape(rightMean, (30,80)), 'right class mean')\n",
    "dispGSIm(np.reshape(straightMean, (30,80)), 'straight class mean')"
   ]
  },
  {
   "cell_type": "code",
   "execution_count": 539,
   "id": "da046d84",
   "metadata": {},
   "outputs": [],
   "source": [
    "def distance(x1, x2):\n",
    "    return np.linalg.norm(x1-x2)"
   ]
  },
  {
   "cell_type": "code",
   "execution_count": 540,
   "id": "5819c36c",
   "metadata": {},
   "outputs": [],
   "source": [
    "def nearestMean(imgFlat):\n",
    "#     imgFlat = shiftIm(np.reshape(imgFlat, (60,80))).flatten()\n",
    "    sd = distance(imgFlat, straightMean)\n",
    "    ld = distance(imgFlat, leftMean)\n",
    "    rd = distance(imgFlat, rightMean)\n",
    "    if sd < ld and sd < rd:\n",
    "#         dispGSIm(np.reshape(imgFlat, (60,80)),'straight')\n",
    "        return 0\n",
    "    elif rd < sd and rd < ld:\n",
    "#         dispGSIm(np.reshape(imgFlat, (60,80)),'right')\n",
    "        return 1\n",
    "    else:\n",
    "#         dispGSIm(np.reshape(imgFlat, (60,80)),'left')\n",
    "        return -1"
   ]
  },
  {
   "cell_type": "code",
   "execution_count": 541,
   "id": "2f051a0a",
   "metadata": {},
   "outputs": [],
   "source": [
    "X_s_test, y_s_test = classSizeLimitedTraining(X_test, y_test)"
   ]
  },
  {
   "cell_type": "code",
   "execution_count": 542,
   "id": "c3f87428",
   "metadata": {
    "scrolled": true
   },
   "outputs": [
    {
     "data": {
      "text/plain": [
       "(array([-1, -1,  1,  0, -1,  1,  0, -1, -1,  1,  1,  1,  0,  1,  0, -1,  0,\n",
       "         1,  0, -1, -1, -1,  1, -1, -1, -1,  1,  0, -1, -1,  0, -1, -1,  0,\n",
       "         0, -1,  1,  0,  0,  0, -1, -1, -1, -1, -1, -1,  1, -1, -1,  1,  1,\n",
       "        -1, -1, -1,  1,  1, -1,  1, -1,  0, -1, -1, -1, -1, -1,  1, -1,  1,\n",
       "         1,  1, -1, -1, -1,  0,  1, -1, -1,  1,  0, -1,  1,  1,  0,  1, -1,\n",
       "         1, -1,  1,  0,  1, -1, -1,  1,  1,  0,  0, -1,  1,  1, -1,  1,  1,\n",
       "         1,  1,  0,  1, -1,  0,  1, -1,  0,  0,  1,  1,  0,  0,  1, -1,  1,\n",
       "         0,  1, -1,  1,  1,  1,  1,  1, -1,  0,  1,  0,  1,  1,  0,  1,  1,\n",
       "         1, -1,  1,  0,  1,  1,  1,  0, -1,  0,  1,  1,  0,  0,  1,  1, -1,\n",
       "         1,  1,  0,  1,  1,  1,  0,  1,  1,  1,  1, -1,  1,  1,  1,  1,  1,\n",
       "         0,  1,  1,  1, -1,  1,  1,  1,  0,  1,  1,  1,  1,  1,  1,  1,  1,\n",
       "         1,  0,  0, -1,  0,  1,  0, -1,  1,  0,  0,  1,  0,  0, -1,  1, -1,\n",
       "         0,  1,  1, -1,  0,  0,  0,  0,  1,  0,  1,  0,  0,  0,  0,  1, -1,\n",
       "         0,  1,  0, -1,  0,  1, -1,  0,  1,  1,  0,  1,  0,  0,  0,  0, -1,\n",
       "         1, -1, -1, -1,  1,  1,  0, -1,  0,  0,  1,  1,  0,  1,  1,  0,  0,\n",
       "         1,  0, -1,  0, -1, -1,  1,  1, -1,  0,  1, -1, -1,  1, -1,  0,  1,\n",
       "         1,  0,  1, -1,  0,  1,  0,  1,  0,  1]),\n",
       " array([-1, -1, -1, -1, -1, -1, -1, -1, -1, -1, -1, -1, -1, -1, -1, -1, -1,\n",
       "        -1, -1, -1, -1, -1, -1, -1, -1, -1, -1, -1, -1, -1, -1, -1, -1, -1,\n",
       "        -1, -1, -1, -1, -1, -1, -1, -1, -1, -1, -1, -1, -1, -1, -1, -1, -1,\n",
       "        -1, -1, -1, -1, -1, -1, -1, -1, -1, -1, -1, -1, -1, -1, -1, -1, -1,\n",
       "        -1, -1, -1, -1, -1, -1, -1, -1, -1, -1, -1, -1, -1, -1, -1, -1, -1,\n",
       "        -1, -1, -1, -1, -1, -1, -1, -1, -1,  1,  1,  1,  1,  1,  1,  1,  1,\n",
       "         1,  1,  1,  1,  1,  1,  1,  1,  1,  1,  1,  1,  1,  1,  1,  1,  1,\n",
       "         1,  1,  1,  1,  1,  1,  1,  1,  1,  1,  1,  1,  1,  1,  1,  1,  1,\n",
       "         1,  1,  1,  1,  1,  1,  1,  1,  1,  1,  1,  1,  1,  1,  1,  1,  1,\n",
       "         1,  1,  1,  1,  1,  1,  1,  1,  1,  1,  1,  1,  1,  1,  1,  1,  1,\n",
       "         1,  1,  1,  1,  1,  1,  1,  1,  1,  1,  1,  1,  1,  1,  1,  1,  1,\n",
       "         1,  0,  0,  0,  0,  0,  0,  0,  0,  0,  0,  0,  0,  0,  0,  0,  0,\n",
       "         0,  0,  0,  0,  0,  0,  0,  0,  0,  0,  0,  0,  0,  0,  0,  0,  0,\n",
       "         0,  0,  0,  0,  0,  0,  0,  0,  0,  0,  0,  0,  0,  0,  0,  0,  0,\n",
       "         0,  0,  0,  0,  0,  0,  0,  0,  0,  0,  0,  0,  0,  0,  0,  0,  0,\n",
       "         0,  0,  0,  0,  0,  0,  0,  0,  0,  0,  0,  0,  0,  0,  0,  0,  0,\n",
       "         0,  0,  0,  0,  0,  0,  0,  0,  0,  0]))"
      ]
     },
     "execution_count": 542,
     "metadata": {},
     "output_type": "execute_result"
    }
   ],
   "source": [
    "y_s_pred = np.array(list(map(nearestMean, X_s_test)))\n",
    "y_s_err = y_s_pred != y_s_test\n",
    "errorIndices = np.where(y_s_err)[0]\n",
    "def mapError(errorIndex):\n",
    "    return {\n",
    "        'im': X_s_test[errorIndex],\n",
    "        'actual': y_s_test[errorIndex],\n",
    "        'labeled': y_s_pred[errorIndex],\n",
    "        'distToS': distance(X_s_test[errorIndex], straightMean),\n",
    "        'distToL': distance(X_s_test[errorIndex], leftMean),\n",
    "        'distToR': distance(X_s_test[errorIndex], rightMean)\n",
    "    }\n",
    "errors = np.array(list(map(mapError,errorIndices)))\n",
    "for error in errors:\n",
    "    pass\n",
    "    #dispGSIm(np.reshape(error['im'],(25,80)), f\"actual: {error['actual']}, labeled: {error['labeled']}, distToL: {error['distToL']:.1f}, distToS: {error['distToS']:.1f}, distToR: {error['distToR']:.1f}\")\n",
    "y_s_pred, y_s_test"
   ]
  },
  {
   "cell_type": "code",
   "execution_count": 543,
   "id": "615cb279",
   "metadata": {},
   "outputs": [
    {
     "name": "stdout",
     "output_type": "stream",
     "text": [
      "The accuracy is 0.525\n"
     ]
    }
   ],
   "source": [
    "acc = np.sum(y_s_pred == y_s_test)/len(y_s_test)\n",
    "print(f'The accuracy is {acc:.3f}')"
   ]
  },
  {
   "cell_type": "code",
   "execution_count": 100,
   "id": "76d5a8c0",
   "metadata": {},
   "outputs": [],
   "source": [
    "np.save('leftMean.npy', leftMean)\n",
    "np.save('rightMean.npy', rightMean)\n",
    "np.save('straightMean.npy', straightMean)"
   ]
  },
  {
   "cell_type": "code",
   "execution_count": null,
   "id": "1f6181b7",
   "metadata": {},
   "outputs": [],
   "source": []
  }
 ],
 "metadata": {
  "kernelspec": {
   "display_name": "Python 3",
   "language": "python",
   "name": "python3"
  },
  "language_info": {
   "codemirror_mode": {
    "name": "ipython",
    "version": 3
   },
   "file_extension": ".py",
   "mimetype": "text/x-python",
   "name": "python",
   "nbconvert_exporter": "python",
   "pygments_lexer": "ipython3",
   "version": "3.6.8"
  }
 },
 "nbformat": 4,
 "nbformat_minor": 5
}
