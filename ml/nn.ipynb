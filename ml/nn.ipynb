{
 "cells": [
  {
   "cell_type": "code",
   "execution_count": 2,
   "metadata": {},
   "outputs": [],
   "source": [
    "from PIL import Image\n",
    "from zipfile import ZipFile\n",
    "from pathlib import Path\n",
    "import numpy as np\n",
    "import pandas as pd\n",
    "from sklearn.preprocessing import LabelBinarizer\n",
    "\n",
    "import os\n",
    "import tensorflow as tf\n",
    "from tensorflow.keras import Sequential\n",
    "from tensorflow.keras.layers import Dense, Flatten, Conv2D, MaxPool2D, Dropout\n",
    "from tensorflow.keras.layers.experimental.preprocessing import Rescaling"
   ]
  },
  {
   "cell_type": "markdown",
   "metadata": {},
   "source": [
    "# Loading Images from Disk"
   ]
  },
  {
   "cell_type": "code",
   "execution_count": 2,
   "metadata": {},
   "outputs": [
    {
     "name": "stdout",
     "output_type": "stream",
     "text": [
      "rm: cannot remove '../data/train_data': No such file or directory\r\n"
     ]
    }
   ],
   "source": [
    "!rm -rf ../data/train_data; rm ../data/train_data"
   ]
  },
  {
   "cell_type": "code",
   "execution_count": 3,
   "metadata": {},
   "outputs": [
    {
     "name": "stdout",
     "output_type": "stream",
     "text": [
      "0: ../data/train.zip\n",
      "1: ../data/test.zip\n"
     ]
    }
   ],
   "source": [
    "data_path = Path('../data/')\n",
    "data_zips = [data_path / f for f in os.listdir(data_path)]\n",
    "\n",
    "for i, f in enumerate(data_zips):\n",
    "    print(f'{i}: {f}')"
   ]
  },
  {
   "cell_type": "code",
   "execution_count": 4,
   "metadata": {},
   "outputs": [
    {
     "name": "stdout",
     "output_type": "stream",
     "text": [
      "../data/train.zip\n"
     ]
    }
   ],
   "source": [
    "f_index = 0\n",
    "data_file = data_zips[f_index]\n",
    "print(data_file)\n",
    "\n",
    "zip_folder_name = 'train_data'\n",
    "data_extract_location = data_path / zip_folder_name"
   ]
  },
  {
   "cell_type": "code",
   "execution_count": 6,
   "metadata": {},
   "outputs": [],
   "source": [
    "with ZipFile(data_file) as z:\n",
    "    z.extractall(data_extract_location)"
   ]
  },
  {
   "cell_type": "code",
   "execution_count": 7,
   "metadata": {},
   "outputs": [
    {
     "data": {
      "text/plain": [
       "['labels.csv', 'images']"
      ]
     },
     "execution_count": 7,
     "metadata": {},
     "output_type": "execute_result"
    }
   ],
   "source": [
    "inner_folder = os.listdir(data_extract_location)[0];\n",
    "data_folder_unzip = data_extract_location / inner_folder\n",
    "os.listdir(data_folder_unzip)"
   ]
  },
  {
   "cell_type": "code",
   "execution_count": 8,
   "metadata": {},
   "outputs": [
    {
     "data": {
      "text/html": [
       "<div>\n",
       "<style scoped>\n",
       "    .dataframe tbody tr th:only-of-type {\n",
       "        vertical-align: middle;\n",
       "    }\n",
       "\n",
       "    .dataframe tbody tr th {\n",
       "        vertical-align: top;\n",
       "    }\n",
       "\n",
       "    .dataframe thead th {\n",
       "        text-align: right;\n",
       "    }\n",
       "</style>\n",
       "<table border=\"1\" class=\"dataframe\">\n",
       "  <thead>\n",
       "    <tr style=\"text-align: right;\">\n",
       "      <th></th>\n",
       "      <th>timestamp</th>\n",
       "      <th>forward/backward</th>\n",
       "      <th>left/right</th>\n",
       "    </tr>\n",
       "  </thead>\n",
       "  <tbody>\n",
       "    <tr>\n",
       "      <th>0</th>\n",
       "      <td>1637291664326</td>\n",
       "      <td>0</td>\n",
       "      <td>0</td>\n",
       "    </tr>\n",
       "    <tr>\n",
       "      <th>1</th>\n",
       "      <td>1637291664353</td>\n",
       "      <td>0</td>\n",
       "      <td>0</td>\n",
       "    </tr>\n",
       "    <tr>\n",
       "      <th>2</th>\n",
       "      <td>1637291664404</td>\n",
       "      <td>0</td>\n",
       "      <td>0</td>\n",
       "    </tr>\n",
       "    <tr>\n",
       "      <th>3</th>\n",
       "      <td>1637291664547</td>\n",
       "      <td>0</td>\n",
       "      <td>0</td>\n",
       "    </tr>\n",
       "    <tr>\n",
       "      <th>4</th>\n",
       "      <td>1637291664573</td>\n",
       "      <td>0</td>\n",
       "      <td>0</td>\n",
       "    </tr>\n",
       "    <tr>\n",
       "      <th>...</th>\n",
       "      <td>...</td>\n",
       "      <td>...</td>\n",
       "      <td>...</td>\n",
       "    </tr>\n",
       "    <tr>\n",
       "      <th>17803</th>\n",
       "      <td>1637292329140</td>\n",
       "      <td>0</td>\n",
       "      <td>0</td>\n",
       "    </tr>\n",
       "    <tr>\n",
       "      <th>17804</th>\n",
       "      <td>1637292329188</td>\n",
       "      <td>0</td>\n",
       "      <td>0</td>\n",
       "    </tr>\n",
       "    <tr>\n",
       "      <th>17805</th>\n",
       "      <td>1637292329210</td>\n",
       "      <td>0</td>\n",
       "      <td>0</td>\n",
       "    </tr>\n",
       "    <tr>\n",
       "      <th>17806</th>\n",
       "      <td>1637292329259</td>\n",
       "      <td>0</td>\n",
       "      <td>0</td>\n",
       "    </tr>\n",
       "    <tr>\n",
       "      <th>17807</th>\n",
       "      <td>1637292329276</td>\n",
       "      <td>0</td>\n",
       "      <td>0</td>\n",
       "    </tr>\n",
       "  </tbody>\n",
       "</table>\n",
       "<p>17808 rows × 3 columns</p>\n",
       "</div>"
      ],
      "text/plain": [
       "           timestamp  forward/backward  left/right\n",
       "0      1637291664326                 0           0\n",
       "1      1637291664353                 0           0\n",
       "2      1637291664404                 0           0\n",
       "3      1637291664547                 0           0\n",
       "4      1637291664573                 0           0\n",
       "...              ...               ...         ...\n",
       "17803  1637292329140                 0           0\n",
       "17804  1637292329188                 0           0\n",
       "17805  1637292329210                 0           0\n",
       "17806  1637292329259                 0           0\n",
       "17807  1637292329276                 0           0\n",
       "\n",
       "[17808 rows x 3 columns]"
      ]
     },
     "execution_count": 8,
     "metadata": {},
     "output_type": "execute_result"
    }
   ],
   "source": [
    "labels = pd.read_csv(data_folder_unzip / 'labels.csv')\n",
    "labels"
   ]
  },
  {
   "cell_type": "code",
   "execution_count": 11,
   "metadata": {},
   "outputs": [
    {
     "name": "stdout",
     "output_type": "stream",
     "text": [
      "-1:  [1 0 0]\n",
      " 0:  [0 1 0]\n",
      "1:  [0 0 1]\n"
     ]
    }
   ],
   "source": [
    "label_encoded = labels['left/right'].values\n",
    "encoder = LabelBinarizer()\n",
    "encoder.fit([-1, 0, 1])\n",
    "label_encoded = encoder.transform(label_encoded)\n",
    "print(\"-1: \", label_encoded[labels['left/right'] == -1][0])\n",
    "print(\" 0: \", label_encoded[labels['left/right'] == 0][0])\n",
    "print(\"1: \", label_encoded[labels['left/right'] == 1][0])"
   ]
  },
  {
   "cell_type": "code",
   "execution_count": 12,
   "metadata": {},
   "outputs": [
    {
     "name": "stdout",
     "output_type": "stream",
     "text": [
      "../data/train_data/dataTrackV2_4\n",
      "Found 17808 files belonging to 1 classes.\n",
      "Using 16028 files for training.\n",
      "Found 17808 files belonging to 1 classes.\n",
      "Using 1780 files for validation.\n"
     ]
    }
   ],
   "source": [
    "# original (320, 240)\n",
    "image_rescale_size = (80, 60)\n",
    "batch_size = 32\n",
    "data_path = data_folder_unzip\n",
    "val_split = 0.1\n",
    "print(f'{data_path}')\n",
    "\n",
    "\n",
    "train_ds = tf.keras.utils.image_dataset_from_directory(\n",
    "    str(data_path),\n",
    "    labels=list(label_encoded),\n",
    "    label_mode=\"int\",\n",
    "    color_mode=\"rgb\",\n",
    "    batch_size=batch_size,\n",
    "    image_size=image_rescale_size,\n",
    "    shuffle=True,\n",
    "    validation_split=val_split,\n",
    "    subset='training',\n",
    "    seed=42\n",
    ")\n",
    "\n",
    "val_ds = tf.keras.utils.image_dataset_from_directory(\n",
    "    str(data_path),\n",
    "    labels=list(label_encoded),\n",
    "    label_mode=\"int\",\n",
    "    color_mode=\"rgb\",\n",
    "    batch_size=batch_size,\n",
    "    image_size=image_rescale_size,\n",
    "    shuffle=True,\n",
    "    validation_split=val_split,\n",
    "    subset='validation',\n",
    "    seed=42\n",
    ")"
   ]
  },
  {
   "cell_type": "code",
   "execution_count": 13,
   "metadata": {},
   "outputs": [
    {
     "name": "stdout",
     "output_type": "stream",
     "text": [
      "(32, 80, 60, 3) (32, 3)\n",
      "(32, 80, 60, 3) (32, 3)\n",
      "(32, 80, 60, 3) (32, 3)\n",
      "(32, 80, 60, 3) (32, 3)\n",
      "(32, 80, 60, 3) (32, 3)\n",
      "(32, 80, 60, 3) (32, 3)\n"
     ]
    }
   ],
   "source": [
    "for i, el in enumerate(train_ds):\n",
    "    # print(data.shape, labels.shape)\n",
    "    # print(cur_labels[:2])\n",
    "    print(el[0].shape, el[1].shape)\n",
    "    if i == 5:\n",
    "        break\n"
   ]
  },
  {
   "cell_type": "markdown",
   "metadata": {},
   "source": [
    "# Preprocessing \n",
    "\n",
    "## Filter labels and images where the car was moving"
   ]
  },
  {
   "cell_type": "code",
   "execution_count": 14,
   "metadata": {},
   "outputs": [
    {
     "data": {
      "text/plain": [
       "TensorShape([494])"
      ]
     },
     "execution_count": 14,
     "metadata": {},
     "output_type": "execute_result"
    }
   ],
   "source": [
    "filtered_index = (labels['forward/backward'] != 0)\n",
    "np_filter = np.array([i for i, index in enumerate(filtered_index) if index == False])\n",
    "bad_indices = tf.convert_to_tensor(np_filter); bad_indices.shape"
   ]
  },
  {
   "cell_type": "code",
   "execution_count": 15,
   "metadata": {},
   "outputs": [],
   "source": [
    "# def func(index, val):\n",
    "#     val_tensor = tf.equal(index, bad_indices)\n",
    "#     ans_tensor = tf.reduce_any(tf.cast(val_tensor, tf.bool)) \n",
    "#     # print(ans_tensor)\n",
    "#     return ans_tensor\n",
    "# train_ds = train_ds.enumerate().filter(func)\n",
    "# #train_ds = test.map(lambda i, el: el[1])\n",
    "\n",
    "# val_ds = val_ds.enumerate().filter(func)\n",
    "# # val_ds = val_ds.map(lambda index, value: value)"
   ]
  },
  {
   "cell_type": "code",
   "execution_count": 16,
   "metadata": {},
   "outputs": [],
   "source": [
    "# for i, el in enumerate(train_ds):\n",
    "#     # print(data.shape, labels.shape)\n",
    "#     # print(cur_labels[:2])\n",
    "#     print(el[1][0].shape, el[1][1].shape)\n",
    "#     if i == 5:\n",
    "#         break"
   ]
  },
  {
   "cell_type": "markdown",
   "metadata": {},
   "source": [
    "# Dense Neural Network\n"
   ]
  },
  {
   "cell_type": "code",
   "execution_count": 17,
   "metadata": {},
   "outputs": [],
   "source": [
    "model1 = Sequential()\n",
    "model1.add(Flatten())\n",
    "model1.add(Rescaling(scale=1./255))\n",
    "model1.add(Dense(32))\n",
    "model1.add(Dropout(0.2)),\n",
    "model1.add(Dense(64))\n",
    "model1.add(Dropout(0.2)),\n",
    "model1.add(Dense(128))\n",
    "model1.add(Dropout(0.2)),\n",
    "model1.add(Dense(64))\n",
    "model1.add(Dropout(0.2)),\n",
    "model1.add(Dense(32))\n",
    "model1.add(Dense(3, activation='softmax'))"
   ]
  },
  {
   "cell_type": "code",
   "execution_count": 18,
   "metadata": {},
   "outputs": [],
   "source": [
    "model_save_path = f'../models/dense.h5'\n",
    "\n",
    "checkpoint = tf.keras.callbacks.ModelCheckpoint(\n",
    "    model_save_path,\n",
    "    monitor=\"val_loss\",\n",
    "    verbose=0,\n",
    "    save_best_only=True,\n",
    "    save_weights_only=False,\n",
    "    mode=\"auto\",\n",
    "    save_freq=\"epoch\",\n",
    ")\n",
    "\n",
    "es = tf.keras.callbacks.EarlyStopping(\n",
    "    monitor='val_accuracy', min_delta=1e-6, patience=10, verbose=2,\n",
    "    mode='min', baseline=0.8, restore_best_weights=False\n",
    ")"
   ]
  },
  {
   "cell_type": "code",
   "execution_count": 19,
   "metadata": {},
   "outputs": [],
   "source": [
    "model1.compile(loss=tf.keras.losses.categorical_crossentropy,\n",
    "              optimizer=tf.keras.optimizers.Adam(learning_rate=0.001),\n",
    "              metrics=['accuracy'])\n",
    "#model.summary()"
   ]
  },
  {
   "cell_type": "code",
   "execution_count": 20,
   "metadata": {
    "scrolled": false
   },
   "outputs": [
    {
     "name": "stdout",
     "output_type": "stream",
     "text": [
      "Epoch 1/50\n",
      "501/501 [==============================] - 4s 5ms/step - loss: 0.9707 - accuracy: 0.7348 - val_loss: 0.5794 - val_accuracy: 0.7916\n",
      "Epoch 2/50\n",
      "501/501 [==============================] - 2s 4ms/step - loss: 0.5566 - accuracy: 0.7926 - val_loss: 0.5526 - val_accuracy: 0.7983\n",
      "Epoch 3/50\n",
      "501/501 [==============================] - 2s 5ms/step - loss: 0.5055 - accuracy: 0.8020 - val_loss: 0.4822 - val_accuracy: 0.8039\n",
      "Epoch 4/50\n",
      "501/501 [==============================] - 2s 5ms/step - loss: 0.4800 - accuracy: 0.8103 - val_loss: 0.4708 - val_accuracy: 0.8146\n",
      "Epoch 5/50\n",
      "501/501 [==============================] - 2s 4ms/step - loss: 0.4559 - accuracy: 0.8165 - val_loss: 0.4036 - val_accuracy: 0.8399\n",
      "Epoch 6/50\n",
      "501/501 [==============================] - 2s 4ms/step - loss: 0.4345 - accuracy: 0.8244 - val_loss: 0.4960 - val_accuracy: 0.8056\n",
      "Epoch 7/50\n",
      "501/501 [==============================] - 2s 4ms/step - loss: 0.4395 - accuracy: 0.8260 - val_loss: 0.3931 - val_accuracy: 0.8247\n",
      "Epoch 8/50\n",
      "501/501 [==============================] - 2s 4ms/step - loss: 0.4301 - accuracy: 0.8288 - val_loss: 0.4588 - val_accuracy: 0.8253\n",
      "Epoch 9/50\n",
      "501/501 [==============================] - 2s 4ms/step - loss: 0.4104 - accuracy: 0.8332 - val_loss: 0.3937 - val_accuracy: 0.8404\n",
      "Epoch 10/50\n",
      "501/501 [==============================] - 2s 4ms/step - loss: 0.3933 - accuracy: 0.8405 - val_loss: 0.3656 - val_accuracy: 0.8371\n",
      "Epoch 11/50\n",
      "501/501 [==============================] - 2s 4ms/step - loss: 0.3869 - accuracy: 0.8419 - val_loss: 0.4006 - val_accuracy: 0.8287\n",
      "Epoch 12/50\n",
      "501/501 [==============================] - 2s 4ms/step - loss: 0.3827 - accuracy: 0.8426 - val_loss: 0.4478 - val_accuracy: 0.8225\n",
      "Epoch 13/50\n",
      "501/501 [==============================] - 2s 4ms/step - loss: 0.3758 - accuracy: 0.8472 - val_loss: 0.3402 - val_accuracy: 0.8573\n",
      "Epoch 14/50\n",
      "501/501 [==============================] - 2s 4ms/step - loss: 0.3616 - accuracy: 0.8494 - val_loss: 0.3725 - val_accuracy: 0.8376\n",
      "Epoch 15/50\n",
      "501/501 [==============================] - 2s 4ms/step - loss: 0.3501 - accuracy: 0.8555 - val_loss: 0.4123 - val_accuracy: 0.8219\n",
      "Epoch 16/50\n",
      "501/501 [==============================] - 2s 4ms/step - loss: 0.3502 - accuracy: 0.8541 - val_loss: 0.3486 - val_accuracy: 0.8444\n",
      "Epoch 17/50\n",
      "501/501 [==============================] - 2s 4ms/step - loss: 0.3551 - accuracy: 0.8541 - val_loss: 0.3382 - val_accuracy: 0.8539\n",
      "Epoch 18/50\n",
      "501/501 [==============================] - 2s 4ms/step - loss: 0.3397 - accuracy: 0.8604 - val_loss: 0.3181 - val_accuracy: 0.8646\n",
      "Epoch 19/50\n",
      "501/501 [==============================] - 2s 4ms/step - loss: 0.3357 - accuracy: 0.8620 - val_loss: 0.3206 - val_accuracy: 0.8730\n",
      "Epoch 20/50\n",
      "501/501 [==============================] - 2s 4ms/step - loss: 0.3383 - accuracy: 0.8610 - val_loss: 0.3230 - val_accuracy: 0.8539\n",
      "Epoch 21/50\n",
      "501/501 [==============================] - 2s 4ms/step - loss: 0.3220 - accuracy: 0.8681 - val_loss: 0.3425 - val_accuracy: 0.8584\n",
      "Epoch 22/50\n",
      "501/501 [==============================] - 2s 4ms/step - loss: 0.3280 - accuracy: 0.8665 - val_loss: 0.3060 - val_accuracy: 0.8590\n",
      "Epoch 23/50\n",
      "501/501 [==============================] - 2s 4ms/step - loss: 0.3223 - accuracy: 0.8677 - val_loss: 0.3134 - val_accuracy: 0.8618\n",
      "Epoch 24/50\n",
      "501/501 [==============================] - 2s 4ms/step - loss: 0.3135 - accuracy: 0.8707 - val_loss: 0.5683 - val_accuracy: 0.7719\n",
      "Epoch 25/50\n",
      "501/501 [==============================] - 2s 4ms/step - loss: 0.3074 - accuracy: 0.8742 - val_loss: 0.3870 - val_accuracy: 0.8416\n",
      "Epoch 26/50\n",
      "501/501 [==============================] - 2s 4ms/step - loss: 0.3112 - accuracy: 0.8743 - val_loss: 0.3645 - val_accuracy: 0.8320\n",
      "Epoch 27/50\n",
      "501/501 [==============================] - 2s 4ms/step - loss: 0.3124 - accuracy: 0.8707 - val_loss: 0.3118 - val_accuracy: 0.8640\n",
      "Epoch 28/50\n",
      "501/501 [==============================] - 2s 4ms/step - loss: 0.3037 - accuracy: 0.8732 - val_loss: 0.2732 - val_accuracy: 0.8899\n",
      "Epoch 29/50\n",
      "501/501 [==============================] - 2s 4ms/step - loss: 0.3091 - accuracy: 0.8751 - val_loss: 0.2767 - val_accuracy: 0.8854\n",
      "Epoch 30/50\n",
      "501/501 [==============================] - 2s 4ms/step - loss: 0.2969 - accuracy: 0.8803 - val_loss: 0.3150 - val_accuracy: 0.8573\n",
      "Epoch 31/50\n",
      "501/501 [==============================] - 2s 4ms/step - loss: 0.2949 - accuracy: 0.8782 - val_loss: 0.4159 - val_accuracy: 0.8112\n",
      "Epoch 32/50\n",
      "501/501 [==============================] - 2s 4ms/step - loss: 0.2883 - accuracy: 0.8831 - val_loss: 0.2946 - val_accuracy: 0.8669\n",
      "Epoch 33/50\n",
      "501/501 [==============================] - 2s 4ms/step - loss: 0.2787 - accuracy: 0.8852 - val_loss: 0.2974 - val_accuracy: 0.8708\n",
      "Epoch 34/50\n",
      "501/501 [==============================] - 2s 4ms/step - loss: 0.2862 - accuracy: 0.8811 - val_loss: 0.3118 - val_accuracy: 0.8646\n",
      "Epoch 35/50\n",
      "501/501 [==============================] - 2s 4ms/step - loss: 0.2842 - accuracy: 0.8842 - val_loss: 0.2738 - val_accuracy: 0.8820\n",
      "Epoch 36/50\n",
      "501/501 [==============================] - 2s 4ms/step - loss: 0.2701 - accuracy: 0.8910 - val_loss: 0.2715 - val_accuracy: 0.8792\n",
      "Epoch 37/50\n",
      "501/501 [==============================] - 2s 4ms/step - loss: 0.2690 - accuracy: 0.8907 - val_loss: 0.2670 - val_accuracy: 0.8837\n",
      "Epoch 38/50\n",
      "501/501 [==============================] - 2s 4ms/step - loss: 0.2695 - accuracy: 0.8874 - val_loss: 0.2595 - val_accuracy: 0.8904\n",
      "Epoch 39/50\n",
      "501/501 [==============================] - 2s 4ms/step - loss: 0.2803 - accuracy: 0.8874 - val_loss: 0.2505 - val_accuracy: 0.8944\n",
      "Epoch 40/50\n",
      "501/501 [==============================] - 2s 4ms/step - loss: 0.2610 - accuracy: 0.8940 - val_loss: 0.2696 - val_accuracy: 0.8831\n",
      "Epoch 41/50\n",
      "501/501 [==============================] - 2s 4ms/step - loss: 0.2692 - accuracy: 0.8894 - val_loss: 0.2699 - val_accuracy: 0.8798\n",
      "Epoch 42/50\n",
      "501/501 [==============================] - 2s 4ms/step - loss: 0.2602 - accuracy: 0.8946 - val_loss: 0.3335 - val_accuracy: 0.8657\n",
      "Epoch 43/50\n",
      "501/501 [==============================] - 2s 4ms/step - loss: 0.2674 - accuracy: 0.8927 - val_loss: 0.2667 - val_accuracy: 0.8994\n",
      "Epoch 44/50\n",
      "501/501 [==============================] - 2s 4ms/step - loss: 0.2604 - accuracy: 0.8942 - val_loss: 0.2410 - val_accuracy: 0.8944\n",
      "Epoch 45/50\n",
      "501/501 [==============================] - 2s 4ms/step - loss: 0.2578 - accuracy: 0.8956 - val_loss: 0.3082 - val_accuracy: 0.8702\n",
      "Epoch 46/50\n",
      "501/501 [==============================] - 2s 4ms/step - loss: 0.2618 - accuracy: 0.8956 - val_loss: 0.2732 - val_accuracy: 0.8921\n",
      "Epoch 47/50\n",
      "501/501 [==============================] - 2s 4ms/step - loss: 0.2526 - accuracy: 0.8962 - val_loss: 0.2444 - val_accuracy: 0.8949\n",
      "Epoch 48/50\n",
      "501/501 [==============================] - 2s 4ms/step - loss: 0.2438 - accuracy: 0.9017 - val_loss: 0.4077 - val_accuracy: 0.8320\n",
      "Epoch 49/50\n",
      "501/501 [==============================] - 2s 4ms/step - loss: 0.2451 - accuracy: 0.9027 - val_loss: 0.3394 - val_accuracy: 0.8573\n",
      "Epoch 50/50\n",
      "501/501 [==============================] - 2s 4ms/step - loss: 0.2549 - accuracy: 0.8937 - val_loss: 0.5491 - val_accuracy: 0.8213\n"
     ]
    }
   ],
   "source": [
    "hist1 = model1.fit(train_ds, validation_data=val_ds, epochs=50, callbacks=[checkpoint])"
   ]
  },
  {
   "cell_type": "markdown",
   "metadata": {},
   "source": [
    "# CNN"
   ]
  },
  {
   "cell_type": "code",
   "execution_count": 21,
   "metadata": {},
   "outputs": [],
   "source": [
    "model2 = Sequential()\n",
    "model2.add(Rescaling(scale=1./255))\n",
    "model2.add(Conv2D(32, (3,3)))\n",
    "model2.add(MaxPool2D(2,2))\n",
    "model2.add(Conv2D(64, (3,3)))\n",
    "model2.add(MaxPool2D(2,2))\n",
    "model2.add(Conv2D(32, (3,3)))\n",
    "model2.add(Flatten())\n",
    "model2.add(Dropout(0.2)),\n",
    "model2.add(Dense(32))\n",
    "model2.add(Dropout(0.2)),\n",
    "model2.add(Dense(64))\n",
    "model2.add(Dense(3, activation='softmax'))"
   ]
  },
  {
   "cell_type": "code",
   "execution_count": 22,
   "metadata": {},
   "outputs": [],
   "source": [
    "model2.compile(loss=tf.keras.losses.CategoricalCrossentropy(),\n",
    "              optimizer=tf.keras.optimizers.Adam(learning_rate=0.01),\n",
    "              metrics=['accuracy'])\n",
    "\n",
    "es = tf.keras.callbacks.EarlyStopping(\n",
    "    monitor='accuracy', min_delta=1e-6, patience=10, verbose=2,\n",
    "    mode='min', baseline=0.8, restore_best_weights=False\n",
    ")\n",
    "\n",
    "model_save_path = f'../models/cnn.h5'\n",
    "\n",
    "checkpoint = tf.keras.callbacks.ModelCheckpoint(\n",
    "    model_save_path,\n",
    "    monitor=\"val_loss\",\n",
    "    verbose=0,\n",
    "    save_best_only=True,\n",
    "    save_weights_only=False,\n",
    "    mode=\"auto\",\n",
    "    save_freq=\"epoch\",\n",
    ")"
   ]
  },
  {
   "cell_type": "code",
   "execution_count": 23,
   "metadata": {},
   "outputs": [
    {
     "name": "stdout",
     "output_type": "stream",
     "text": [
      "Epoch 1/45\n",
      "501/501 [==============================] - 12s 5ms/step - loss: 4.7004 - accuracy: 0.7665 - val_loss: 0.4975 - val_accuracy: 0.8017\n",
      "Epoch 2/45\n",
      "501/501 [==============================] - 2s 5ms/step - loss: 0.4467 - accuracy: 0.8169 - val_loss: 0.3694 - val_accuracy: 0.8455\n",
      "Epoch 3/45\n",
      "501/501 [==============================] - 2s 5ms/step - loss: 0.3834 - accuracy: 0.8336 - val_loss: 0.3435 - val_accuracy: 0.8584\n",
      "Epoch 4/45\n",
      "501/501 [==============================] - 2s 5ms/step - loss: 0.3624 - accuracy: 0.8422 - val_loss: 0.3487 - val_accuracy: 0.8472\n",
      "Epoch 5/45\n",
      "501/501 [==============================] - 2s 5ms/step - loss: 0.3442 - accuracy: 0.8512 - val_loss: 0.3385 - val_accuracy: 0.8584\n",
      "Epoch 6/45\n",
      "501/501 [==============================] - 2s 5ms/step - loss: 0.3305 - accuracy: 0.8587 - val_loss: 0.3413 - val_accuracy: 0.8551\n",
      "Epoch 7/45\n",
      "501/501 [==============================] - 2s 5ms/step - loss: 0.3186 - accuracy: 0.8635 - val_loss: 0.3200 - val_accuracy: 0.8618\n",
      "Epoch 8/45\n",
      "501/501 [==============================] - 2s 5ms/step - loss: 0.3039 - accuracy: 0.8723 - val_loss: 0.3261 - val_accuracy: 0.8483\n",
      "Epoch 9/45\n",
      "501/501 [==============================] - 2s 5ms/step - loss: 0.2962 - accuracy: 0.8793 - val_loss: 0.3298 - val_accuracy: 0.8584\n",
      "Epoch 10/45\n",
      "501/501 [==============================] - 2s 5ms/step - loss: 0.2862 - accuracy: 0.8836 - val_loss: 0.2783 - val_accuracy: 0.8837\n",
      "Epoch 11/45\n",
      "501/501 [==============================] - 2s 5ms/step - loss: 15880.0947 - accuracy: 0.7618 - val_loss: 30.7779 - val_accuracy: 0.7736\n",
      "Epoch 12/45\n",
      "501/501 [==============================] - 2s 5ms/step - loss: 24.2323 - accuracy: 0.6593 - val_loss: 7.3241 - val_accuracy: 0.7865\n",
      "Epoch 13/45\n",
      "501/501 [==============================] - 2s 5ms/step - loss: 7.5950 - accuracy: 0.6715 - val_loss: 1.8388 - val_accuracy: 0.7708\n",
      "Epoch 14/45\n",
      "501/501 [==============================] - 2s 5ms/step - loss: 3.4238 - accuracy: 0.6796 - val_loss: 1.0676 - val_accuracy: 0.7949\n",
      "Epoch 15/45\n",
      "501/501 [==============================] - 2s 5ms/step - loss: 1.4034 - accuracy: 0.7091 - val_loss: 0.8438 - val_accuracy: 0.7882\n",
      "Epoch 16/45\n",
      "501/501 [==============================] - 2s 5ms/step - loss: 0.8387 - accuracy: 0.7401 - val_loss: 0.7341 - val_accuracy: 0.7843\n",
      "Epoch 17/45\n",
      "501/501 [==============================] - 2s 5ms/step - loss: 0.8089 - accuracy: 0.7442 - val_loss: 0.6288 - val_accuracy: 0.7888\n",
      "Epoch 18/45\n",
      "501/501 [==============================] - 2s 5ms/step - loss: 0.8417 - accuracy: 0.7411 - val_loss: 0.8165 - val_accuracy: 0.7152\n",
      "Epoch 19/45\n",
      "501/501 [==============================] - 2s 5ms/step - loss: 0.8088 - accuracy: 0.7473 - val_loss: 0.7646 - val_accuracy: 0.7736\n",
      "Epoch 20/45\n",
      "501/501 [==============================] - 2s 5ms/step - loss: 0.8251 - accuracy: 0.7469 - val_loss: 0.6530 - val_accuracy: 0.7826\n",
      "Epoch 21/45\n",
      "501/501 [==============================] - 2s 5ms/step - loss: 1.2692 - accuracy: 0.7240 - val_loss: 2.0680 - val_accuracy: 0.3213\n",
      "Epoch 22/45\n",
      "501/501 [==============================] - 2s 5ms/step - loss: 221.1678 - accuracy: 0.6787 - val_loss: 1.3414 - val_accuracy: 0.8197\n",
      "Epoch 00022: early stopping\n"
     ]
    }
   ],
   "source": [
    "hist2 = model2.fit(train_ds, validation_data=val_ds, callbacks=[es, checkpoint], epochs=45)"
   ]
  },
  {
   "cell_type": "markdown",
   "metadata": {},
   "source": [
    "# Testing"
   ]
  },
  {
   "cell_type": "markdown",
   "metadata": {},
   "source": [
    "## Loading Dataset"
   ]
  },
  {
   "cell_type": "code",
   "execution_count": 24,
   "metadata": {},
   "outputs": [
    {
     "name": "stdout",
     "output_type": "stream",
     "text": [
      "rm: cannot remove '../data/test_data': No such file or directory\r\n"
     ]
    }
   ],
   "source": [
    "!rm -rf ../data/test_data; rm ../data/test_data"
   ]
  },
  {
   "cell_type": "code",
   "execution_count": 25,
   "metadata": {},
   "outputs": [
    {
     "name": "stdout",
     "output_type": "stream",
     "text": [
      "0: ../data/train.zip\n",
      "1: ../data/test.zip\n",
      "2: ../data/train_data\n"
     ]
    }
   ],
   "source": [
    "data_path = Path('../data/')\n",
    "data_zips = [data_path / f for f in os.listdir(data_path)]\n",
    "\n",
    "for i, f in enumerate(data_zips):\n",
    "    print(f'{i}: {f}')"
   ]
  },
  {
   "cell_type": "code",
   "execution_count": 28,
   "metadata": {},
   "outputs": [
    {
     "name": "stdout",
     "output_type": "stream",
     "text": [
      "../data/test.zip\n"
     ]
    }
   ],
   "source": [
    "f_index = 1\n",
    "data_file = data_zips[f_index]\n",
    "print(data_file)\n",
    "\n",
    "zip_folder_name = 'test_data'\n",
    "data_extract_location = data_path / zip_folder_name"
   ]
  },
  {
   "cell_type": "code",
   "execution_count": 29,
   "metadata": {},
   "outputs": [],
   "source": [
    "with ZipFile(data_file) as z:\n",
    "    z.extractall(data_extract_location)"
   ]
  },
  {
   "cell_type": "code",
   "execution_count": 30,
   "metadata": {},
   "outputs": [
    {
     "data": {
      "text/plain": [
       "['labels.csv', 'images']"
      ]
     },
     "execution_count": 30,
     "metadata": {},
     "output_type": "execute_result"
    }
   ],
   "source": [
    "inner_folder = os.listdir(data_extract_location)[0];\n",
    "data_folder_unzip = data_extract_location / inner_folder\n",
    "os.listdir(data_folder_unzip)"
   ]
  },
  {
   "cell_type": "code",
   "execution_count": 31,
   "metadata": {},
   "outputs": [
    {
     "data": {
      "text/html": [
       "<div>\n",
       "<style scoped>\n",
       "    .dataframe tbody tr th:only-of-type {\n",
       "        vertical-align: middle;\n",
       "    }\n",
       "\n",
       "    .dataframe tbody tr th {\n",
       "        vertical-align: top;\n",
       "    }\n",
       "\n",
       "    .dataframe thead th {\n",
       "        text-align: right;\n",
       "    }\n",
       "</style>\n",
       "<table border=\"1\" class=\"dataframe\">\n",
       "  <thead>\n",
       "    <tr style=\"text-align: right;\">\n",
       "      <th></th>\n",
       "      <th>timestamp</th>\n",
       "      <th>forward/backward</th>\n",
       "      <th>left/right</th>\n",
       "    </tr>\n",
       "  </thead>\n",
       "  <tbody>\n",
       "    <tr>\n",
       "      <th>0</th>\n",
       "      <td>1637292461661</td>\n",
       "      <td>0</td>\n",
       "      <td>0</td>\n",
       "    </tr>\n",
       "    <tr>\n",
       "      <th>1</th>\n",
       "      <td>1637292461900</td>\n",
       "      <td>0</td>\n",
       "      <td>0</td>\n",
       "    </tr>\n",
       "    <tr>\n",
       "      <th>2</th>\n",
       "      <td>1637292461951</td>\n",
       "      <td>0</td>\n",
       "      <td>0</td>\n",
       "    </tr>\n",
       "    <tr>\n",
       "      <th>3</th>\n",
       "      <td>1637292461993</td>\n",
       "      <td>0</td>\n",
       "      <td>0</td>\n",
       "    </tr>\n",
       "    <tr>\n",
       "      <th>4</th>\n",
       "      <td>1637292462034</td>\n",
       "      <td>0</td>\n",
       "      <td>0</td>\n",
       "    </tr>\n",
       "    <tr>\n",
       "      <th>...</th>\n",
       "      <td>...</td>\n",
       "      <td>...</td>\n",
       "      <td>...</td>\n",
       "    </tr>\n",
       "    <tr>\n",
       "      <th>12686</th>\n",
       "      <td>1637292930962</td>\n",
       "      <td>0</td>\n",
       "      <td>0</td>\n",
       "    </tr>\n",
       "    <tr>\n",
       "      <th>12687</th>\n",
       "      <td>1637292930986</td>\n",
       "      <td>0</td>\n",
       "      <td>0</td>\n",
       "    </tr>\n",
       "    <tr>\n",
       "      <th>12688</th>\n",
       "      <td>1637292931017</td>\n",
       "      <td>0</td>\n",
       "      <td>0</td>\n",
       "    </tr>\n",
       "    <tr>\n",
       "      <th>12689</th>\n",
       "      <td>1637292931063</td>\n",
       "      <td>0</td>\n",
       "      <td>0</td>\n",
       "    </tr>\n",
       "    <tr>\n",
       "      <th>12690</th>\n",
       "      <td>1637292931120</td>\n",
       "      <td>0</td>\n",
       "      <td>0</td>\n",
       "    </tr>\n",
       "  </tbody>\n",
       "</table>\n",
       "<p>12691 rows × 3 columns</p>\n",
       "</div>"
      ],
      "text/plain": [
       "           timestamp  forward/backward  left/right\n",
       "0      1637292461661                 0           0\n",
       "1      1637292461900                 0           0\n",
       "2      1637292461951                 0           0\n",
       "3      1637292461993                 0           0\n",
       "4      1637292462034                 0           0\n",
       "...              ...               ...         ...\n",
       "12686  1637292930962                 0           0\n",
       "12687  1637292930986                 0           0\n",
       "12688  1637292931017                 0           0\n",
       "12689  1637292931063                 0           0\n",
       "12690  1637292931120                 0           0\n",
       "\n",
       "[12691 rows x 3 columns]"
      ]
     },
     "execution_count": 31,
     "metadata": {},
     "output_type": "execute_result"
    }
   ],
   "source": [
    "labels = pd.read_csv(data_folder_unzip / 'labels.csv')\n",
    "labels"
   ]
  },
  {
   "cell_type": "code",
   "execution_count": 33,
   "metadata": {},
   "outputs": [
    {
     "name": "stdout",
     "output_type": "stream",
     "text": [
      "-1:  [1 0 0]\n",
      " 0:  [0 1 0]\n",
      "1:  [0 0 1]\n"
     ]
    }
   ],
   "source": [
    "labels_orig = labels['left/right'].values\n",
    "encoder = LabelBinarizer()\n",
    "encoder.fit([-1, 0, 1])\n",
    "label_encoded = encoder.transform(labels_orig)\n",
    "print(\"-1: \", label_encoded[labels['left/right'] == -1][0])\n",
    "print(\" 0: \", label_encoded[labels['left/right'] == 0][0])\n",
    "print(\"1: \", label_encoded[labels['left/right'] == 1][0])"
   ]
  },
  {
   "cell_type": "code",
   "execution_count": 34,
   "metadata": {},
   "outputs": [
    {
     "name": "stdout",
     "output_type": "stream",
     "text": [
      "../data/test_data/dataTrackV2_5\n"
     ]
    }
   ],
   "source": [
    "print(data_folder_unzip)"
   ]
  },
  {
   "cell_type": "code",
   "execution_count": 35,
   "metadata": {},
   "outputs": [
    {
     "name": "stdout",
     "output_type": "stream",
     "text": [
      "../data/test_data/dataTrackV2_5\n",
      "Found 12691 files belonging to 1 classes.\n"
     ]
    }
   ],
   "source": [
    "image_rescale_size = (80, 60)\n",
    "batch_size = 64\n",
    "data_path = data_folder_unzip\n",
    "val_split = 0.1\n",
    "print(f'{data_path}')\n",
    "\n",
    "\n",
    "test_ds = tf.keras.utils.image_dataset_from_directory(\n",
    "    str(data_path),\n",
    "    labels=list(label_encoded),\n",
    "    label_mode=\"int\",\n",
    "    color_mode=\"rgb\",\n",
    "    batch_size=batch_size,\n",
    "    image_size=image_rescale_size,\n",
    "    shuffle=False,\n",
    ")"
   ]
  },
  {
   "cell_type": "code",
   "execution_count": 36,
   "metadata": {},
   "outputs": [
    {
     "name": "stdout",
     "output_type": "stream",
     "text": [
      "(64, 80, 60, 3) (64, 3)\n",
      "(64, 80, 60, 3) (64, 3)\n",
      "(64, 80, 60, 3) (64, 3)\n",
      "(64, 80, 60, 3) (64, 3)\n",
      "(64, 80, 60, 3) (64, 3)\n",
      "(64, 80, 60, 3) (64, 3)\n"
     ]
    }
   ],
   "source": [
    "for i, el in enumerate(test_ds):\n",
    "    # print(data.shape, labels.shape)\n",
    "    # print(cur_labels[:2])\n",
    "    print(el[0].shape, el[1].shape)\n",
    "    if i == 5:\n",
    "        break\n"
   ]
  },
  {
   "cell_type": "markdown",
   "metadata": {},
   "source": [
    "## Load Models"
   ]
  },
  {
   "cell_type": "code",
   "execution_count": 37,
   "metadata": {},
   "outputs": [],
   "source": [
    "from tensorflow.keras.models import load_model"
   ]
  },
  {
   "cell_type": "code",
   "execution_count": 38,
   "metadata": {},
   "outputs": [
    {
     "data": {
      "text/plain": [
       "[PosixPath('../models/cnn.h5'), PosixPath('../models/dense.h5')]"
      ]
     },
     "execution_count": 38,
     "metadata": {},
     "output_type": "execute_result"
    }
   ],
   "source": [
    "model_dir = Path('../models')\n",
    "models = [model_dir / model for model in os.listdir(model_dir)]; models"
   ]
  },
  {
   "cell_type": "code",
   "execution_count": 39,
   "metadata": {},
   "outputs": [
    {
     "name": "stdout",
     "output_type": "stream",
     "text": [
      "Model: \"sequential_1\"\n",
      "_________________________________________________________________\n",
      "Layer (type)                 Output Shape              Param #   \n",
      "=================================================================\n",
      "rescaling_1 (Rescaling)      (None, 80, 60, 3)         0         \n",
      "_________________________________________________________________\n",
      "conv2d (Conv2D)              (None, 78, 58, 32)        896       \n",
      "_________________________________________________________________\n",
      "max_pooling2d (MaxPooling2D) (None, 39, 29, 32)        0         \n",
      "_________________________________________________________________\n",
      "conv2d_1 (Conv2D)            (None, 37, 27, 64)        18496     \n",
      "_________________________________________________________________\n",
      "max_pooling2d_1 (MaxPooling2 (None, 18, 13, 64)        0         \n",
      "_________________________________________________________________\n",
      "conv2d_2 (Conv2D)            (None, 16, 11, 32)        18464     \n",
      "_________________________________________________________________\n",
      "flatten_1 (Flatten)          (None, 5632)              0         \n",
      "_________________________________________________________________\n",
      "dropout_4 (Dropout)          (None, 5632)              0         \n",
      "_________________________________________________________________\n",
      "dense_6 (Dense)              (None, 32)                180256    \n",
      "_________________________________________________________________\n",
      "dropout_5 (Dropout)          (None, 32)                0         \n",
      "_________________________________________________________________\n",
      "dense_7 (Dense)              (None, 64)                2112      \n",
      "_________________________________________________________________\n",
      "dense_8 (Dense)              (None, 3)                 195       \n",
      "=================================================================\n",
      "Total params: 220,419\n",
      "Trainable params: 220,419\n",
      "Non-trainable params: 0\n",
      "_________________________________________________________________\n"
     ]
    }
   ],
   "source": [
    "cnn_model = load_model('../models/cnn.h5'); cnn_model.summary()"
   ]
  },
  {
   "cell_type": "code",
   "execution_count": 40,
   "metadata": {},
   "outputs": [
    {
     "name": "stdout",
     "output_type": "stream",
     "text": [
      "Model: \"sequential\"\n",
      "_________________________________________________________________\n",
      "Layer (type)                 Output Shape              Param #   \n",
      "=================================================================\n",
      "flatten (Flatten)            (None, 14400)             0         \n",
      "_________________________________________________________________\n",
      "rescaling (Rescaling)        (None, 14400)             0         \n",
      "_________________________________________________________________\n",
      "dense (Dense)                (None, 32)                460832    \n",
      "_________________________________________________________________\n",
      "dropout (Dropout)            (None, 32)                0         \n",
      "_________________________________________________________________\n",
      "dense_1 (Dense)              (None, 64)                2112      \n",
      "_________________________________________________________________\n",
      "dropout_1 (Dropout)          (None, 64)                0         \n",
      "_________________________________________________________________\n",
      "dense_2 (Dense)              (None, 128)               8320      \n",
      "_________________________________________________________________\n",
      "dropout_2 (Dropout)          (None, 128)               0         \n",
      "_________________________________________________________________\n",
      "dense_3 (Dense)              (None, 64)                8256      \n",
      "_________________________________________________________________\n",
      "dropout_3 (Dropout)          (None, 64)                0         \n",
      "_________________________________________________________________\n",
      "dense_4 (Dense)              (None, 32)                2080      \n",
      "_________________________________________________________________\n",
      "dense_5 (Dense)              (None, 3)                 99        \n",
      "=================================================================\n",
      "Total params: 481,699\n",
      "Trainable params: 481,699\n",
      "Non-trainable params: 0\n",
      "_________________________________________________________________\n"
     ]
    }
   ],
   "source": [
    "dense_model = load_model('../models/dense.h5'); dense_model.summary()"
   ]
  },
  {
   "cell_type": "code",
   "execution_count": 41,
   "metadata": {},
   "outputs": [
    {
     "data": {
      "text/plain": [
       "array([[1.1877699e-03, 9.9743611e-01, 1.3761341e-03],\n",
       "       [9.0792158e-04, 9.9755019e-01, 1.5419233e-03],\n",
       "       [9.0792158e-04, 9.9755019e-01, 1.5419233e-03],\n",
       "       ...,\n",
       "       [1.2976663e-01, 8.7010902e-01, 1.2431802e-04],\n",
       "       [1.2976663e-01, 8.7010902e-01, 1.2431802e-04],\n",
       "       [1.3719736e-01, 8.6271143e-01, 9.1256225e-05]], dtype=float32)"
      ]
     },
     "execution_count": 41,
     "metadata": {},
     "output_type": "execute_result"
    }
   ],
   "source": [
    "cnn_pred = cnn_model.predict(test_ds); cnn_pred"
   ]
  },
  {
   "cell_type": "code",
   "execution_count": 42,
   "metadata": {},
   "outputs": [
    {
     "data": {
      "text/plain": [
       "(array([-1,  0,  1]), array([ 1407, 10234,  1050]))"
      ]
     },
     "execution_count": 42,
     "metadata": {},
     "output_type": "execute_result"
    }
   ],
   "source": [
    "pred_labels_cnn = np.argmax(cnn_pred, axis=1) - 1; pred_labels_cnn\n",
    "np.unique(pred_labels_cnn, return_counts=True)"
   ]
  },
  {
   "cell_type": "code",
   "execution_count": 43,
   "metadata": {},
   "outputs": [
    {
     "data": {
      "text/plain": [
       "array([[1.8935418e-05, 9.9904770e-01, 9.3329744e-04],\n",
       "       [1.8375000e-05, 9.9913883e-01, 8.4278913e-04],\n",
       "       [1.8375000e-05, 9.9913883e-01, 8.4278913e-04],\n",
       "       ...,\n",
       "       [9.2368059e-02, 9.0233803e-01, 5.2938825e-03],\n",
       "       [9.2368059e-02, 9.0233803e-01, 5.2938825e-03],\n",
       "       [9.8886624e-02, 8.9535761e-01, 5.7557393e-03]], dtype=float32)"
      ]
     },
     "execution_count": 43,
     "metadata": {},
     "output_type": "execute_result"
    }
   ],
   "source": [
    "dense_pred = dense_model.predict(test_ds); dense_pred"
   ]
  },
  {
   "cell_type": "code",
   "execution_count": 44,
   "metadata": {},
   "outputs": [
    {
     "data": {
      "text/plain": [
       "(array([-1,  0,  1]), array([ 1465, 10355,   871]))"
      ]
     },
     "execution_count": 44,
     "metadata": {},
     "output_type": "execute_result"
    }
   ],
   "source": [
    "pred_labels_dense = np.argmax(dense_pred, axis=1) -1; \n",
    "np.unique(pred_labels_dense, return_counts=True)"
   ]
  },
  {
   "cell_type": "code",
   "execution_count": 45,
   "metadata": {},
   "outputs": [],
   "source": [
    "from sklearn.metrics import balanced_accuracy_score, accuracy_score"
   ]
  },
  {
   "cell_type": "code",
   "execution_count": 46,
   "metadata": {},
   "outputs": [
    {
     "name": "stdout",
     "output_type": "stream",
     "text": [
      "CNN\n",
      "balanced:  0.6443471522590293\n",
      "accuracy:  0.790481443542668\n"
     ]
    }
   ],
   "source": [
    "print('CNN')\n",
    "print('balanced: ', balanced_accuracy_score(pred_labels_cnn, labels_orig))\n",
    "print('accuracy: ', accuracy_score(pred_labels_cnn, labels_orig))"
   ]
  },
  {
   "cell_type": "code",
   "execution_count": 47,
   "metadata": {},
   "outputs": [
    {
     "name": "stdout",
     "output_type": "stream",
     "text": [
      "DENSE\n",
      "balanced:  0.6492241012953273\n",
      "accuracy:  0.7948940193838153\n"
     ]
    }
   ],
   "source": [
    "print('DENSE')\n",
    "print('balanced: ', balanced_accuracy_score(pred_labels_dense, labels_orig))\n",
    "print('accuracy: ', accuracy_score(pred_labels_dense, labels_orig))"
   ]
  },
  {
   "cell_type": "code",
   "execution_count": null,
   "metadata": {},
   "outputs": [],
   "source": []
  }
 ],
 "metadata": {
  "interpreter": {
   "hash": "c0789bd774c15ad91e642e9f45ea84dae0d1c3470c12d2575a05e548c3bc620a"
  },
  "kernelspec": {
   "display_name": "Python 3",
   "language": "python",
   "name": "python3"
  },
  "language_info": {
   "codemirror_mode": {
    "name": "ipython",
    "version": 3
   },
   "file_extension": ".py",
   "mimetype": "text/x-python",
   "name": "python",
   "nbconvert_exporter": "python",
   "pygments_lexer": "ipython3",
   "version": "3.6.8"
  }
 },
 "nbformat": 4,
 "nbformat_minor": 4
}
