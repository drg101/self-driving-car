{
 "cells": [
  {
   "cell_type": "code",
   "execution_count": 1,
   "metadata": {},
   "outputs": [],
   "source": [
    "from PIL import Image\n",
    "from zipfile import ZipFile\n",
    "from pathlib import Path\n",
    "import numpy as np\n",
    "import pandas as pd\n",
    "from sklearn.preprocessing import LabelBinarizer\n",
    "\n",
    "import os\n",
    "import tensorflow as tf\n",
    "from tensorflow.keras import Sequential\n",
    "from tensorflow.keras.layers import Dense, Flatten, Conv2D, MaxPool2D, Dropout\n",
    "from tensorflow.keras.layers.experimental.preprocessing import Rescaling"
   ]
  },
  {
   "cell_type": "markdown",
   "metadata": {},
   "source": [
    "# Loading Images from Disk"
   ]
  },
  {
   "cell_type": "code",
   "execution_count": 2,
   "metadata": {},
   "outputs": [
    {
     "name": "stdout",
     "output_type": "stream",
     "text": [
      "rm: cannot remove '../data/train_data': No such file or directory\n"
     ]
    }
   ],
   "source": [
    "!rm -rf ../data/train_data; rm ../data/train_data"
   ]
  },
  {
   "cell_type": "code",
   "execution_count": 3,
   "metadata": {},
   "outputs": [
    {
     "name": "stdout",
     "output_type": "stream",
     "text": [
      "0: ../data/test_data\n",
      "1: ../data/.ipynb_checkpoints\n",
      "2: ../data/train.zip\n",
      "3: ../data/test.zip\n"
     ]
    }
   ],
   "source": [
    "data_path = Path('../data/')\n",
    "data_zips = [data_path / f for f in os.listdir(data_path)]\n",
    "\n",
    "for i, f in enumerate(data_zips):\n",
    "    print(f'{i}: {f}')"
   ]
  },
  {
   "cell_type": "code",
   "execution_count": 6,
   "metadata": {},
   "outputs": [
    {
     "name": "stdout",
     "output_type": "stream",
     "text": [
      "../data/train.zip\n"
     ]
    }
   ],
   "source": [
    "f_index = 2\n",
    "data_file = data_zips[f_index]\n",
    "print(data_file)\n",
    "\n",
    "zip_folder_name = 'train_data'\n",
    "data_extract_location = data_path / zip_folder_name"
   ]
  },
  {
   "cell_type": "code",
   "execution_count": 7,
   "metadata": {},
   "outputs": [],
   "source": [
    "with ZipFile(data_file) as z:\n",
    "    z.extractall(data_extract_location)"
   ]
  },
  {
   "cell_type": "code",
   "execution_count": 8,
   "metadata": {},
   "outputs": [
    {
     "data": {
      "text/plain": [
       "['labels.csv', 'images']"
      ]
     },
     "execution_count": 8,
     "metadata": {},
     "output_type": "execute_result"
    }
   ],
   "source": [
    "inner_folder = os.listdir(data_extract_location)[0];\n",
    "data_folder_unzip = data_extract_location / inner_folder\n",
    "os.listdir(data_folder_unzip)"
   ]
  },
  {
   "cell_type": "code",
   "execution_count": 9,
   "metadata": {},
   "outputs": [
    {
     "data": {
      "text/html": [
       "<div>\n",
       "<style scoped>\n",
       "    .dataframe tbody tr th:only-of-type {\n",
       "        vertical-align: middle;\n",
       "    }\n",
       "\n",
       "    .dataframe tbody tr th {\n",
       "        vertical-align: top;\n",
       "    }\n",
       "\n",
       "    .dataframe thead th {\n",
       "        text-align: right;\n",
       "    }\n",
       "</style>\n",
       "<table border=\"1\" class=\"dataframe\">\n",
       "  <thead>\n",
       "    <tr style=\"text-align: right;\">\n",
       "      <th></th>\n",
       "      <th>timestamp</th>\n",
       "      <th>forward/backward</th>\n",
       "      <th>left/right</th>\n",
       "    </tr>\n",
       "  </thead>\n",
       "  <tbody>\n",
       "    <tr>\n",
       "      <th>0</th>\n",
       "      <td>1637291664326</td>\n",
       "      <td>0</td>\n",
       "      <td>0</td>\n",
       "    </tr>\n",
       "    <tr>\n",
       "      <th>1</th>\n",
       "      <td>1637291664353</td>\n",
       "      <td>0</td>\n",
       "      <td>0</td>\n",
       "    </tr>\n",
       "    <tr>\n",
       "      <th>2</th>\n",
       "      <td>1637291664404</td>\n",
       "      <td>0</td>\n",
       "      <td>0</td>\n",
       "    </tr>\n",
       "    <tr>\n",
       "      <th>3</th>\n",
       "      <td>1637291664547</td>\n",
       "      <td>0</td>\n",
       "      <td>0</td>\n",
       "    </tr>\n",
       "    <tr>\n",
       "      <th>4</th>\n",
       "      <td>1637291664573</td>\n",
       "      <td>0</td>\n",
       "      <td>0</td>\n",
       "    </tr>\n",
       "    <tr>\n",
       "      <th>...</th>\n",
       "      <td>...</td>\n",
       "      <td>...</td>\n",
       "      <td>...</td>\n",
       "    </tr>\n",
       "    <tr>\n",
       "      <th>17803</th>\n",
       "      <td>1637292329140</td>\n",
       "      <td>0</td>\n",
       "      <td>0</td>\n",
       "    </tr>\n",
       "    <tr>\n",
       "      <th>17804</th>\n",
       "      <td>1637292329188</td>\n",
       "      <td>0</td>\n",
       "      <td>0</td>\n",
       "    </tr>\n",
       "    <tr>\n",
       "      <th>17805</th>\n",
       "      <td>1637292329210</td>\n",
       "      <td>0</td>\n",
       "      <td>0</td>\n",
       "    </tr>\n",
       "    <tr>\n",
       "      <th>17806</th>\n",
       "      <td>1637292329259</td>\n",
       "      <td>0</td>\n",
       "      <td>0</td>\n",
       "    </tr>\n",
       "    <tr>\n",
       "      <th>17807</th>\n",
       "      <td>1637292329276</td>\n",
       "      <td>0</td>\n",
       "      <td>0</td>\n",
       "    </tr>\n",
       "  </tbody>\n",
       "</table>\n",
       "<p>17808 rows × 3 columns</p>\n",
       "</div>"
      ],
      "text/plain": [
       "           timestamp  forward/backward  left/right\n",
       "0      1637291664326                 0           0\n",
       "1      1637291664353                 0           0\n",
       "2      1637291664404                 0           0\n",
       "3      1637291664547                 0           0\n",
       "4      1637291664573                 0           0\n",
       "...              ...               ...         ...\n",
       "17803  1637292329140                 0           0\n",
       "17804  1637292329188                 0           0\n",
       "17805  1637292329210                 0           0\n",
       "17806  1637292329259                 0           0\n",
       "17807  1637292329276                 0           0\n",
       "\n",
       "[17808 rows x 3 columns]"
      ]
     },
     "execution_count": 9,
     "metadata": {},
     "output_type": "execute_result"
    }
   ],
   "source": [
    "labels = pd.read_csv(data_folder_unzip / 'labels.csv')\n",
    "labels"
   ]
  },
  {
   "cell_type": "code",
   "execution_count": 10,
   "metadata": {},
   "outputs": [
    {
     "name": "stdout",
     "output_type": "stream",
     "text": [
      "-1:  [1 0 0]\n",
      " 0:  [0 1 0]\n",
      "-1:  [0 0 1]\n"
     ]
    }
   ],
   "source": [
    "label_encoded = labels['left/right'].values\n",
    "encoder = LabelBinarizer()\n",
    "encoder.fit([-1, 0, 1])\n",
    "label_encoded = encoder.transform(label_encoded)\n",
    "print(\"-1: \", label_encoded[labels['left/right'] == -1][0])\n",
    "print(\" 0: \", label_encoded[labels['left/right'] == 0][0])\n",
    "print(\"-1: \", label_encoded[labels['left/right'] == 1][0])"
   ]
  },
  {
   "cell_type": "code",
   "execution_count": 97,
   "metadata": {},
   "outputs": [
    {
     "name": "stdout",
     "output_type": "stream",
     "text": [
      "../data/test_data/dataTrackV2_5\n",
      "Found 12691 files belonging to 1 classes.\n",
      "Using 11422 files for training.\n",
      "Found 12691 files belonging to 1 classes.\n",
      "Using 1269 files for validation.\n"
     ]
    }
   ],
   "source": [
    "# original (320, 240)\n",
    "image_rescale_size = (80, 60)\n",
    "batch_size = 32\n",
    "data_path = data_folder_unzip\n",
    "val_split = 0.1\n",
    "print(f'{data_path}')\n",
    "\n",
    "\n",
    "train_ds = tf.keras.utils.image_dataset_from_directory(\n",
    "    str(data_path),\n",
    "    labels=list(label_encoded),\n",
    "    label_mode=\"int\",\n",
    "    color_mode=\"rgb\",\n",
    "    batch_size=batch_size,\n",
    "    image_size=image_rescale_size,\n",
    "    shuffle=True,\n",
    "    validation_split=val_split,\n",
    "    subset='training',\n",
    "    seed=42\n",
    ")\n",
    "\n",
    "val_ds = tf.keras.utils.image_dataset_from_directory(\n",
    "    str(data_path),\n",
    "    labels=list(label_encoded),\n",
    "    label_mode=\"int\",\n",
    "    color_mode=\"rgb\",\n",
    "    batch_size=batch_size,\n",
    "    image_size=image_rescale_size,\n",
    "    shuffle=True,\n",
    "    validation_split=val_split,\n",
    "    subset='validation',\n",
    "    seed=42\n",
    ")"
   ]
  },
  {
   "cell_type": "code",
   "execution_count": 99,
   "metadata": {},
   "outputs": [
    {
     "name": "stdout",
     "output_type": "stream",
     "text": [
      "(32, 80, 60, 3) (32, 3)\n",
      "(32, 80, 60, 3) (32, 3)\n",
      "(32, 80, 60, 3) (32, 3)\n",
      "(32, 80, 60, 3) (32, 3)\n",
      "(32, 80, 60, 3) (32, 3)\n",
      "(32, 80, 60, 3) (32, 3)\n"
     ]
    }
   ],
   "source": [
    "for i, el in enumerate(train_ds):\n",
    "    # print(data.shape, labels.shape)\n",
    "    # print(cur_labels[:2])\n",
    "    print(el[0].shape, el[1].shape)\n",
    "    if i == 5:\n",
    "        break\n"
   ]
  },
  {
   "cell_type": "markdown",
   "metadata": {},
   "source": [
    "# Preprocessing \n",
    "\n",
    "## Filter labels and images where the car was moving"
   ]
  },
  {
   "cell_type": "code",
   "execution_count": 100,
   "metadata": {},
   "outputs": [
    {
     "data": {
      "text/plain": [
       "TensorShape([786])"
      ]
     },
     "execution_count": 100,
     "metadata": {},
     "output_type": "execute_result"
    }
   ],
   "source": [
    "filtered_index = (labels['forward/backward'] != 0)\n",
    "np_filter = np.array([i for i, index in enumerate(filtered_index) if index == False])\n",
    "bad_indices = tf.convert_to_tensor(np_filter); bad_indices.shape"
   ]
  },
  {
   "cell_type": "code",
   "execution_count": 101,
   "metadata": {},
   "outputs": [],
   "source": [
    "# def func(index, val):\n",
    "#     val_tensor = tf.equal(index, bad_indices)\n",
    "#     ans_tensor = tf.reduce_any(tf.cast(val_tensor, tf.bool)) \n",
    "#     # print(ans_tensor)\n",
    "#     return ans_tensor\n",
    "# train_ds = train_ds.enumerate().filter(func)\n",
    "# #train_ds = test.map(lambda i, el: el[1])\n",
    "\n",
    "# val_ds = val_ds.enumerate().filter(func)\n",
    "# # val_ds = val_ds.map(lambda index, value: value)"
   ]
  },
  {
   "cell_type": "code",
   "execution_count": 102,
   "metadata": {},
   "outputs": [],
   "source": [
    "# for i, el in enumerate(train_ds):\n",
    "#     # print(data.shape, labels.shape)\n",
    "#     # print(cur_labels[:2])\n",
    "#     print(el[1][0].shape, el[1][1].shape)\n",
    "#     if i == 5:\n",
    "#         break"
   ]
  },
  {
   "cell_type": "markdown",
   "metadata": {},
   "source": [
    "# Dense Neural Network\n"
   ]
  },
  {
   "cell_type": "code",
   "execution_count": 109,
   "metadata": {},
   "outputs": [],
   "source": [
    "model1 = Sequential()\n",
    "model1.add(Flatten())\n",
    "model1.add(Rescaling(scale=1./255))\n",
    "model1.add(Dense(32))\n",
    "model1.add(Dropout(0.2)),\n",
    "model1.add(Dense(64))\n",
    "model1.add(Dropout(0.2)),\n",
    "model1.add(Dense(128))\n",
    "model1.add(Dropout(0.2)),\n",
    "model1.add(Dense(64))\n",
    "model1.add(Dropout(0.2)),\n",
    "model1.add(Dense(32))\n",
    "model1.add(Dense(3, activation='softmax'))"
   ]
  },
  {
   "cell_type": "code",
   "execution_count": 110,
   "metadata": {},
   "outputs": [],
   "source": [
    "model_save_path = f'../models/dense.h5'\n",
    "\n",
    "checkpoint = tf.keras.callbacks.ModelCheckpoint(\n",
    "    model_save_path,\n",
    "    monitor=\"val_loss\",\n",
    "    verbose=0,\n",
    "    save_best_only=True,\n",
    "    save_weights_only=False,\n",
    "    mode=\"auto\",\n",
    "    save_freq=\"epoch\",\n",
    ")\n",
    "\n",
    "es = tf.keras.callbacks.EarlyStopping(\n",
    "    monitor='val_accuracy', min_delta=1e-6, patience=10, verbose=2,\n",
    "    mode='min', baseline=0.8, restore_best_weights=False\n",
    ")"
   ]
  },
  {
   "cell_type": "code",
   "execution_count": 111,
   "metadata": {},
   "outputs": [],
   "source": [
    "model1.compile(loss=tf.keras.losses.categorical_crossentropy,\n",
    "              optimizer=tf.keras.optimizers.Adam(learning_rate=0.001),\n",
    "              metrics=['accuracy'])\n",
    "#model.summary()"
   ]
  },
  {
   "cell_type": "code",
   "execution_count": 112,
   "metadata": {},
   "outputs": [
    {
     "name": "stdout",
     "output_type": "stream",
     "text": [
      "Epoch 1/50\n",
      "357/357 [==============================] - 3s 6ms/step - loss: 1.2053 - accuracy: 0.7033 - val_loss: 0.4604 - val_accuracy: 0.8392\n",
      "Epoch 2/50\n",
      "357/357 [==============================] - 2s 5ms/step - loss: 0.5601 - accuracy: 0.7799 - val_loss: 0.4160 - val_accuracy: 0.8424\n",
      "Epoch 3/50\n",
      "357/357 [==============================] - 2s 5ms/step - loss: 0.4964 - accuracy: 0.8044 - val_loss: 0.3776 - val_accuracy: 0.8479\n",
      "Epoch 4/50\n",
      "357/357 [==============================] - 2s 5ms/step - loss: 0.4540 - accuracy: 0.8181 - val_loss: 0.3704 - val_accuracy: 0.8511\n",
      "Epoch 5/50\n",
      "357/357 [==============================] - 2s 6ms/step - loss: 0.4380 - accuracy: 0.8241 - val_loss: 0.3210 - val_accuracy: 0.8645\n",
      "Epoch 6/50\n",
      "357/357 [==============================] - 2s 5ms/step - loss: 0.4362 - accuracy: 0.8261 - val_loss: 0.3578 - val_accuracy: 0.8534\n",
      "Epoch 7/50\n",
      "357/357 [==============================] - 2s 5ms/step - loss: 0.4125 - accuracy: 0.8375 - val_loss: 0.3485 - val_accuracy: 0.8526\n",
      "Epoch 8/50\n",
      "357/357 [==============================] - 2s 5ms/step - loss: 0.3999 - accuracy: 0.8423 - val_loss: 0.4422 - val_accuracy: 0.8353\n",
      "Epoch 9/50\n",
      "357/357 [==============================] - 2s 5ms/step - loss: 0.3921 - accuracy: 0.8444 - val_loss: 0.2940 - val_accuracy: 0.8763\n",
      "Epoch 10/50\n",
      "357/357 [==============================] - 2s 5ms/step - loss: 0.3789 - accuracy: 0.8493 - val_loss: 0.3162 - val_accuracy: 0.8676\n",
      "Epoch 11/50\n",
      "357/357 [==============================] - 2s 5ms/step - loss: 0.3818 - accuracy: 0.8477 - val_loss: 0.4004 - val_accuracy: 0.8377\n",
      "Epoch 12/50\n",
      "357/357 [==============================] - 2s 5ms/step - loss: 0.3559 - accuracy: 0.8585 - val_loss: 0.3621 - val_accuracy: 0.8652\n",
      "Epoch 13/50\n",
      "357/357 [==============================] - 2s 5ms/step - loss: 0.3756 - accuracy: 0.8528 - val_loss: 0.3029 - val_accuracy: 0.8700\n",
      "Epoch 14/50\n",
      "357/357 [==============================] - 2s 5ms/step - loss: 0.3481 - accuracy: 0.8578 - val_loss: 0.5183 - val_accuracy: 0.7935\n",
      "Epoch 15/50\n",
      "357/357 [==============================] - 2s 5ms/step - loss: 0.3450 - accuracy: 0.8604 - val_loss: 0.3002 - val_accuracy: 0.8771\n",
      "Epoch 16/50\n",
      "357/357 [==============================] - 2s 6ms/step - loss: 0.3312 - accuracy: 0.8658 - val_loss: 0.3651 - val_accuracy: 0.8558\n",
      "Epoch 17/50\n",
      "357/357 [==============================] - 2s 6ms/step - loss: 0.3237 - accuracy: 0.8703 - val_loss: 0.3041 - val_accuracy: 0.8637\n",
      "Epoch 18/50\n",
      "357/357 [==============================] - 2s 5ms/step - loss: 0.3364 - accuracy: 0.8650 - val_loss: 0.4473 - val_accuracy: 0.8534\n",
      "Epoch 19/50\n",
      "357/357 [==============================] - 2s 5ms/step - loss: 0.3246 - accuracy: 0.8706 - val_loss: 0.2739 - val_accuracy: 0.8810\n",
      "Epoch 20/50\n",
      "357/357 [==============================] - 2s 5ms/step - loss: 0.3072 - accuracy: 0.8758 - val_loss: 0.2618 - val_accuracy: 0.8968\n",
      "Epoch 21/50\n",
      "357/357 [==============================] - 2s 5ms/step - loss: 0.3071 - accuracy: 0.8783 - val_loss: 0.2517 - val_accuracy: 0.8952\n",
      "Epoch 22/50\n",
      "357/357 [==============================] - 2s 5ms/step - loss: 0.3022 - accuracy: 0.8792 - val_loss: 0.3079 - val_accuracy: 0.8755\n",
      "Epoch 23/50\n",
      "357/357 [==============================] - 2s 5ms/step - loss: 0.3061 - accuracy: 0.8798 - val_loss: 0.2662 - val_accuracy: 0.8944\n",
      "Epoch 24/50\n",
      "357/357 [==============================] - 2s 5ms/step - loss: 0.3028 - accuracy: 0.8793 - val_loss: 0.2804 - val_accuracy: 0.8849\n",
      "Epoch 25/50\n",
      "357/357 [==============================] - 2s 5ms/step - loss: 0.2861 - accuracy: 0.8826 - val_loss: 0.2376 - val_accuracy: 0.9015\n",
      "Epoch 26/50\n",
      "357/357 [==============================] - 2s 5ms/step - loss: 0.2888 - accuracy: 0.8848 - val_loss: 0.2559 - val_accuracy: 0.9007\n",
      "Epoch 27/50\n",
      "357/357 [==============================] - 2s 5ms/step - loss: 0.2798 - accuracy: 0.8876 - val_loss: 0.2454 - val_accuracy: 0.9054\n",
      "Epoch 28/50\n",
      "357/357 [==============================] - 2s 5ms/step - loss: 0.2675 - accuracy: 0.8945 - val_loss: 0.2971 - val_accuracy: 0.8771\n",
      "Epoch 29/50\n",
      "357/357 [==============================] - 2s 5ms/step - loss: 0.2603 - accuracy: 0.8949 - val_loss: 0.3579 - val_accuracy: 0.8668\n",
      "Epoch 30/50\n",
      "357/357 [==============================] - 2s 5ms/step - loss: 0.2679 - accuracy: 0.8919 - val_loss: 0.2848 - val_accuracy: 0.8905\n",
      "Epoch 31/50\n",
      "357/357 [==============================] - 2s 5ms/step - loss: 0.2567 - accuracy: 0.8997 - val_loss: 0.4767 - val_accuracy: 0.8582\n",
      "Epoch 32/50\n",
      "357/357 [==============================] - 2s 5ms/step - loss: 0.2585 - accuracy: 0.9004 - val_loss: 0.2944 - val_accuracy: 0.8873\n",
      "Epoch 33/50\n",
      "357/357 [==============================] - 2s 5ms/step - loss: 0.2632 - accuracy: 0.8938 - val_loss: 0.2897 - val_accuracy: 0.8857\n",
      "Epoch 34/50\n",
      "357/357 [==============================] - 2s 5ms/step - loss: 0.2565 - accuracy: 0.8991 - val_loss: 0.2293 - val_accuracy: 0.9086\n",
      "Epoch 35/50\n",
      "357/357 [==============================] - 2s 5ms/step - loss: 0.2481 - accuracy: 0.9003 - val_loss: 0.2650 - val_accuracy: 0.8983\n",
      "Epoch 36/50\n",
      "357/357 [==============================] - 2s 5ms/step - loss: 0.2443 - accuracy: 0.9076 - val_loss: 0.3044 - val_accuracy: 0.8857\n",
      "Epoch 37/50\n",
      "357/357 [==============================] - 2s 5ms/step - loss: 0.2446 - accuracy: 0.9044 - val_loss: 0.2237 - val_accuracy: 0.9196\n",
      "Epoch 38/50\n",
      "357/357 [==============================] - 2s 5ms/step - loss: 0.2386 - accuracy: 0.9064 - val_loss: 0.2197 - val_accuracy: 0.9157\n",
      "Epoch 39/50\n",
      "357/357 [==============================] - 2s 5ms/step - loss: 0.2402 - accuracy: 0.9026 - val_loss: 0.2439 - val_accuracy: 0.9031\n",
      "Epoch 40/50\n",
      "357/357 [==============================] - 2s 5ms/step - loss: 0.2176 - accuracy: 0.9135 - val_loss: 0.3837 - val_accuracy: 0.8739\n",
      "Epoch 41/50\n",
      "357/357 [==============================] - 2s 5ms/step - loss: 0.2303 - accuracy: 0.9082 - val_loss: 0.2637 - val_accuracy: 0.9031\n",
      "Epoch 42/50\n",
      "357/357 [==============================] - 2s 5ms/step - loss: 0.2244 - accuracy: 0.9123 - val_loss: 0.2192 - val_accuracy: 0.9180\n",
      "Epoch 43/50\n",
      "357/357 [==============================] - 2s 5ms/step - loss: 0.2229 - accuracy: 0.9129 - val_loss: 0.2646 - val_accuracy: 0.9086\n",
      "Epoch 44/50\n",
      "357/357 [==============================] - 2s 5ms/step - loss: 0.2184 - accuracy: 0.9174 - val_loss: 0.2232 - val_accuracy: 0.9125\n",
      "Epoch 45/50\n",
      "357/357 [==============================] - 2s 5ms/step - loss: 0.2193 - accuracy: 0.9137 - val_loss: 0.2295 - val_accuracy: 0.9141\n",
      "Epoch 46/50\n",
      "357/357 [==============================] - 2s 5ms/step - loss: 0.2142 - accuracy: 0.9157 - val_loss: 0.2326 - val_accuracy: 0.9165\n",
      "Epoch 47/50\n",
      "357/357 [==============================] - 2s 5ms/step - loss: 0.2193 - accuracy: 0.9157 - val_loss: 0.2049 - val_accuracy: 0.9188\n",
      "Epoch 48/50\n",
      "357/357 [==============================] - 2s 5ms/step - loss: 0.1971 - accuracy: 0.9242 - val_loss: 0.4096 - val_accuracy: 0.8613\n",
      "Epoch 49/50\n",
      "357/357 [==============================] - 2s 5ms/step - loss: 0.2138 - accuracy: 0.9159 - val_loss: 0.3146 - val_accuracy: 0.8786\n",
      "Epoch 50/50\n",
      "357/357 [==============================] - 2s 5ms/step - loss: 0.2153 - accuracy: 0.9164 - val_loss: 0.2195 - val_accuracy: 0.9141\n"
     ]
    }
   ],
   "source": [
    "hist1 = model1.fit(train_ds, validation_data=val_ds, epochs=50, callbacks=[checkpoint])"
   ]
  },
  {
   "cell_type": "markdown",
   "metadata": {},
   "source": [
    "# CNN"
   ]
  },
  {
   "cell_type": "code",
   "execution_count": 113,
   "metadata": {},
   "outputs": [],
   "source": [
    "model2 = Sequential()\n",
    "model2.add(Rescaling(scale=1./255))\n",
    "model2.add(Conv2D(32, (3,3)))\n",
    "model2.add(MaxPool2D(2,2))\n",
    "model2.add(Conv2D(64, (3,3)))\n",
    "model2.add(MaxPool2D(2,2))\n",
    "model2.add(Conv2D(32, (3,3)))\n",
    "model2.add(Flatten())\n",
    "model2.add(Dropout(0.2)),\n",
    "model2.add(Dense(32))\n",
    "model2.add(Dropout(0.2)),\n",
    "model2.add(Dense(64))\n",
    "model2.add(Dense(3, activation='softmax'))"
   ]
  },
  {
   "cell_type": "code",
   "execution_count": 114,
   "metadata": {},
   "outputs": [],
   "source": [
    "model2.compile(loss=tf.keras.losses.CategoricalCrossentropy(),\n",
    "              optimizer=tf.keras.optimizers.Adam(learning_rate=0.01),\n",
    "              metrics=['accuracy'])\n",
    "\n",
    "es = tf.keras.callbacks.EarlyStopping(\n",
    "    monitor='accuracy', min_delta=1e-6, patience=10, verbose=2,\n",
    "    mode='min', baseline=0.8, restore_best_weights=False\n",
    ")\n",
    "\n",
    "model_save_path = f'../models/cnn.h5'\n",
    "\n",
    "checkpoint = tf.keras.callbacks.ModelCheckpoint(\n",
    "    model_save_path,\n",
    "    monitor=\"val_loss\",\n",
    "    verbose=0,\n",
    "    save_best_only=True,\n",
    "    save_weights_only=False,\n",
    "    mode=\"auto\",\n",
    "    save_freq=\"epoch\",\n",
    ")"
   ]
  },
  {
   "cell_type": "code",
   "execution_count": 115,
   "metadata": {},
   "outputs": [
    {
     "name": "stdout",
     "output_type": "stream",
     "text": [
      "Epoch 1/45\n",
      "357/357 [==============================] - 16s 44ms/step - loss: 10.5241 - accuracy: 0.7422 - val_loss: 0.4537 - val_accuracy: 0.8298\n",
      "Epoch 2/45\n",
      "357/357 [==============================] - 16s 44ms/step - loss: 0.4783 - accuracy: 0.8084 - val_loss: 0.4042 - val_accuracy: 0.8345\n",
      "Epoch 3/45\n",
      "357/357 [==============================] - 16s 44ms/step - loss: 0.4302 - accuracy: 0.8223 - val_loss: 0.3545 - val_accuracy: 0.8487\n",
      "Epoch 4/45\n",
      "357/357 [==============================] - 16s 43ms/step - loss: 0.3867 - accuracy: 0.8412 - val_loss: 0.3284 - val_accuracy: 0.8463\n",
      "Epoch 5/45\n",
      "357/357 [==============================] - 16s 43ms/step - loss: 0.3703 - accuracy: 0.8456 - val_loss: 0.3319 - val_accuracy: 0.8613\n",
      "Epoch 6/45\n",
      "357/357 [==============================] - 16s 44ms/step - loss: 0.3356 - accuracy: 0.8595 - val_loss: 0.2950 - val_accuracy: 0.8613\n",
      "Epoch 7/45\n",
      "357/357 [==============================] - 16s 44ms/step - loss: 0.3082 - accuracy: 0.8717 - val_loss: 0.2697 - val_accuracy: 0.8771\n",
      "Epoch 8/45\n",
      "357/357 [==============================] - 16s 44ms/step - loss: 0.2886 - accuracy: 0.8801 - val_loss: 0.2582 - val_accuracy: 0.8857\n",
      "Epoch 9/45\n",
      "357/357 [==============================] - 16s 44ms/step - loss: 0.2741 - accuracy: 0.8869 - val_loss: 0.2628 - val_accuracy: 0.8960\n",
      "Epoch 10/45\n",
      "357/357 [==============================] - 16s 44ms/step - loss: 0.2581 - accuracy: 0.8970 - val_loss: 0.2448 - val_accuracy: 0.8968\n",
      "Epoch 11/45\n",
      "357/357 [==============================] - 16s 44ms/step - loss: 0.2415 - accuracy: 0.9059 - val_loss: 0.3052 - val_accuracy: 0.8786\n",
      "Epoch 00011: early stopping\n"
     ]
    }
   ],
   "source": [
    "hist2 = model2.fit(train_ds, validation_data=val_ds, callbacks=[es, checkpoint], epochs=45)"
   ]
  },
  {
   "cell_type": "markdown",
   "metadata": {},
   "source": [
    "# Testing"
   ]
  },
  {
   "cell_type": "markdown",
   "metadata": {},
   "source": [
    "## Loading Dataset"
   ]
  },
  {
   "cell_type": "code",
   "execution_count": 116,
   "metadata": {},
   "outputs": [
    {
     "name": "stdout",
     "output_type": "stream",
     "text": [
      "rm: cannot remove '../data/test_data': No such file or directory\n"
     ]
    }
   ],
   "source": [
    "!rm -rf ../data/test_data; rm ../data/test_data"
   ]
  },
  {
   "cell_type": "code",
   "execution_count": 117,
   "metadata": {},
   "outputs": [
    {
     "name": "stdout",
     "output_type": "stream",
     "text": [
      "0: ../data/.ipynb_checkpoints\n",
      "1: ../data/train_data\n",
      "2: ../data/train.zip\n",
      "3: ../data/test.zip\n"
     ]
    }
   ],
   "source": [
    "data_path = Path('../data/')\n",
    "data_zips = [data_path / f for f in os.listdir(data_path)]\n",
    "\n",
    "for i, f in enumerate(data_zips):\n",
    "    print(f'{i}: {f}')"
   ]
  },
  {
   "cell_type": "code",
   "execution_count": 118,
   "metadata": {},
   "outputs": [
    {
     "name": "stdout",
     "output_type": "stream",
     "text": [
      "../data/test.zip\n"
     ]
    }
   ],
   "source": [
    "f_index = 3\n",
    "data_file = data_zips[f_index]\n",
    "print(data_file)\n",
    "\n",
    "zip_folder_name = 'test_data'\n",
    "data_extract_location = data_path / zip_folder_name"
   ]
  },
  {
   "cell_type": "code",
   "execution_count": 119,
   "metadata": {},
   "outputs": [],
   "source": [
    "with ZipFile(data_file) as z:\n",
    "    z.extractall(data_extract_location)"
   ]
  },
  {
   "cell_type": "code",
   "execution_count": 120,
   "metadata": {},
   "outputs": [
    {
     "data": {
      "text/plain": [
       "['labels.csv', 'images']"
      ]
     },
     "execution_count": 120,
     "metadata": {},
     "output_type": "execute_result"
    }
   ],
   "source": [
    "inner_folder = os.listdir(data_extract_location)[0];\n",
    "data_folder_unzip = data_extract_location / inner_folder\n",
    "os.listdir(data_folder_unzip)"
   ]
  },
  {
   "cell_type": "code",
   "execution_count": 121,
   "metadata": {},
   "outputs": [
    {
     "data": {
      "text/html": [
       "<div>\n",
       "<style scoped>\n",
       "    .dataframe tbody tr th:only-of-type {\n",
       "        vertical-align: middle;\n",
       "    }\n",
       "\n",
       "    .dataframe tbody tr th {\n",
       "        vertical-align: top;\n",
       "    }\n",
       "\n",
       "    .dataframe thead th {\n",
       "        text-align: right;\n",
       "    }\n",
       "</style>\n",
       "<table border=\"1\" class=\"dataframe\">\n",
       "  <thead>\n",
       "    <tr style=\"text-align: right;\">\n",
       "      <th></th>\n",
       "      <th>timestamp</th>\n",
       "      <th>forward/backward</th>\n",
       "      <th>left/right</th>\n",
       "    </tr>\n",
       "  </thead>\n",
       "  <tbody>\n",
       "    <tr>\n",
       "      <th>0</th>\n",
       "      <td>1637292461661</td>\n",
       "      <td>0</td>\n",
       "      <td>0</td>\n",
       "    </tr>\n",
       "    <tr>\n",
       "      <th>1</th>\n",
       "      <td>1637292461900</td>\n",
       "      <td>0</td>\n",
       "      <td>0</td>\n",
       "    </tr>\n",
       "    <tr>\n",
       "      <th>2</th>\n",
       "      <td>1637292461951</td>\n",
       "      <td>0</td>\n",
       "      <td>0</td>\n",
       "    </tr>\n",
       "    <tr>\n",
       "      <th>3</th>\n",
       "      <td>1637292461993</td>\n",
       "      <td>0</td>\n",
       "      <td>0</td>\n",
       "    </tr>\n",
       "    <tr>\n",
       "      <th>4</th>\n",
       "      <td>1637292462034</td>\n",
       "      <td>0</td>\n",
       "      <td>0</td>\n",
       "    </tr>\n",
       "    <tr>\n",
       "      <th>...</th>\n",
       "      <td>...</td>\n",
       "      <td>...</td>\n",
       "      <td>...</td>\n",
       "    </tr>\n",
       "    <tr>\n",
       "      <th>12686</th>\n",
       "      <td>1637292930962</td>\n",
       "      <td>0</td>\n",
       "      <td>0</td>\n",
       "    </tr>\n",
       "    <tr>\n",
       "      <th>12687</th>\n",
       "      <td>1637292930986</td>\n",
       "      <td>0</td>\n",
       "      <td>0</td>\n",
       "    </tr>\n",
       "    <tr>\n",
       "      <th>12688</th>\n",
       "      <td>1637292931017</td>\n",
       "      <td>0</td>\n",
       "      <td>0</td>\n",
       "    </tr>\n",
       "    <tr>\n",
       "      <th>12689</th>\n",
       "      <td>1637292931063</td>\n",
       "      <td>0</td>\n",
       "      <td>0</td>\n",
       "    </tr>\n",
       "    <tr>\n",
       "      <th>12690</th>\n",
       "      <td>1637292931120</td>\n",
       "      <td>0</td>\n",
       "      <td>0</td>\n",
       "    </tr>\n",
       "  </tbody>\n",
       "</table>\n",
       "<p>12691 rows × 3 columns</p>\n",
       "</div>"
      ],
      "text/plain": [
       "           timestamp  forward/backward  left/right\n",
       "0      1637292461661                 0           0\n",
       "1      1637292461900                 0           0\n",
       "2      1637292461951                 0           0\n",
       "3      1637292461993                 0           0\n",
       "4      1637292462034                 0           0\n",
       "...              ...               ...         ...\n",
       "12686  1637292930962                 0           0\n",
       "12687  1637292930986                 0           0\n",
       "12688  1637292931017                 0           0\n",
       "12689  1637292931063                 0           0\n",
       "12690  1637292931120                 0           0\n",
       "\n",
       "[12691 rows x 3 columns]"
      ]
     },
     "execution_count": 121,
     "metadata": {},
     "output_type": "execute_result"
    }
   ],
   "source": [
    "labels = pd.read_csv(data_folder_unzip / 'labels.csv')\n",
    "labels"
   ]
  },
  {
   "cell_type": "code",
   "execution_count": 122,
   "metadata": {},
   "outputs": [
    {
     "name": "stdout",
     "output_type": "stream",
     "text": [
      "-1:  [1 0 0]\n",
      " 0:  [0 1 0]\n",
      "-1:  [0 0 1]\n"
     ]
    }
   ],
   "source": [
    "labels_orig = labels['left/right'].values\n",
    "encoder = LabelBinarizer()\n",
    "encoder.fit([-1, 0, 1])\n",
    "label_encoded = encoder.transform(labels_orig)\n",
    "print(\"-1: \", label_encoded[labels['left/right'] == -1][0])\n",
    "print(\" 0: \", label_encoded[labels['left/right'] == 0][0])\n",
    "print(\"-1: \", label_encoded[labels['left/right'] == 1][0])"
   ]
  },
  {
   "cell_type": "code",
   "execution_count": 123,
   "metadata": {},
   "outputs": [
    {
     "name": "stdout",
     "output_type": "stream",
     "text": [
      "../data/test_data/dataTrackV2_5\n"
     ]
    }
   ],
   "source": [
    "print(data_folder_unzip)"
   ]
  },
  {
   "cell_type": "code",
   "execution_count": 124,
   "metadata": {},
   "outputs": [
    {
     "name": "stdout",
     "output_type": "stream",
     "text": [
      "../data/test_data/dataTrackV2_5\n",
      "Found 12691 files belonging to 1 classes.\n"
     ]
    }
   ],
   "source": [
    "image_rescale_size = (80, 60)\n",
    "batch_size = 64\n",
    "data_path = data_folder_unzip\n",
    "val_split = 0.1\n",
    "print(f'{data_path}')\n",
    "\n",
    "\n",
    "test_ds = tf.keras.utils.image_dataset_from_directory(\n",
    "    str(data_path),\n",
    "    labels=list(label_encoded),\n",
    "    label_mode=\"int\",\n",
    "    color_mode=\"rgb\",\n",
    "    batch_size=batch_size,\n",
    "    image_size=image_rescale_size,\n",
    "    shuffle=False,\n",
    ")"
   ]
  },
  {
   "cell_type": "code",
   "execution_count": 125,
   "metadata": {},
   "outputs": [
    {
     "name": "stdout",
     "output_type": "stream",
     "text": [
      "(64, 80, 60, 3) (64, 3)\n",
      "(64, 80, 60, 3) (64, 3)\n",
      "(64, 80, 60, 3) (64, 3)\n",
      "(64, 80, 60, 3) (64, 3)\n",
      "(64, 80, 60, 3) (64, 3)\n",
      "(64, 80, 60, 3) (64, 3)\n"
     ]
    }
   ],
   "source": [
    "for i, el in enumerate(test_ds):\n",
    "    # print(data.shape, labels.shape)\n",
    "    # print(cur_labels[:2])\n",
    "    print(el[0].shape, el[1].shape)\n",
    "    if i == 5:\n",
    "        break\n"
   ]
  },
  {
   "cell_type": "markdown",
   "metadata": {},
   "source": [
    "## Load Models"
   ]
  },
  {
   "cell_type": "code",
   "execution_count": 126,
   "metadata": {},
   "outputs": [],
   "source": [
    "from tensorflow.keras.models import load_model"
   ]
  },
  {
   "cell_type": "code",
   "execution_count": 127,
   "metadata": {},
   "outputs": [
    {
     "data": {
      "text/plain": [
       "[PosixPath('../models/dense.h5'),\n",
       " PosixPath('../models/.ipynb_checkpoints'),\n",
       " PosixPath('../models/cnn.h5')]"
      ]
     },
     "execution_count": 127,
     "metadata": {},
     "output_type": "execute_result"
    }
   ],
   "source": [
    "model_dir = Path('../models')\n",
    "models = [model_dir / model for model in os.listdir(model_dir)]; models"
   ]
  },
  {
   "cell_type": "code",
   "execution_count": 128,
   "metadata": {},
   "outputs": [
    {
     "name": "stdout",
     "output_type": "stream",
     "text": [
      "Model: \"sequential_8\"\n",
      "_________________________________________________________________\n",
      " Layer (type)                Output Shape              Param #   \n",
      "=================================================================\n",
      " rescaling_8 (Rescaling)     (None, 80, 60, 3)         0         \n",
      "                                                                 \n",
      " conv2d_9 (Conv2D)           (None, 78, 58, 32)        896       \n",
      "                                                                 \n",
      " max_pooling2d_6 (MaxPooling  (None, 39, 29, 32)       0         \n",
      " 2D)                                                             \n",
      "                                                                 \n",
      " conv2d_10 (Conv2D)          (None, 37, 27, 64)        18496     \n",
      "                                                                 \n",
      " max_pooling2d_7 (MaxPooling  (None, 18, 13, 64)       0         \n",
      " 2D)                                                             \n",
      "                                                                 \n",
      " conv2d_11 (Conv2D)          (None, 16, 11, 32)        18464     \n",
      "                                                                 \n",
      " flatten_8 (Flatten)         (None, 5632)              0         \n",
      "                                                                 \n",
      " dropout_21 (Dropout)        (None, 5632)              0         \n",
      "                                                                 \n",
      " dense_42 (Dense)            (None, 32)                180256    \n",
      "                                                                 \n",
      " dropout_22 (Dropout)        (None, 32)                0         \n",
      "                                                                 \n",
      " dense_43 (Dense)            (None, 64)                2112      \n",
      "                                                                 \n",
      " dense_44 (Dense)            (None, 3)                 195       \n",
      "                                                                 \n",
      "=================================================================\n",
      "Total params: 220,419\n",
      "Trainable params: 220,419\n",
      "Non-trainable params: 0\n",
      "_________________________________________________________________\n"
     ]
    }
   ],
   "source": [
    "cnn_model = load_model('../models/cnn.h5'); cnn_model.summary()"
   ]
  },
  {
   "cell_type": "code",
   "execution_count": 129,
   "metadata": {},
   "outputs": [
    {
     "name": "stdout",
     "output_type": "stream",
     "text": [
      "Model: \"sequential_7\"\n",
      "_________________________________________________________________\n",
      " Layer (type)                Output Shape              Param #   \n",
      "=================================================================\n",
      " flatten_7 (Flatten)         (None, 14400)             0         \n",
      "                                                                 \n",
      " rescaling_7 (Rescaling)     (None, 14400)             0         \n",
      "                                                                 \n",
      " dense_36 (Dense)            (None, 32)                460832    \n",
      "                                                                 \n",
      " dropout_17 (Dropout)        (None, 32)                0         \n",
      "                                                                 \n",
      " dense_37 (Dense)            (None, 64)                2112      \n",
      "                                                                 \n",
      " dropout_18 (Dropout)        (None, 64)                0         \n",
      "                                                                 \n",
      " dense_38 (Dense)            (None, 128)               8320      \n",
      "                                                                 \n",
      " dropout_19 (Dropout)        (None, 128)               0         \n",
      "                                                                 \n",
      " dense_39 (Dense)            (None, 64)                8256      \n",
      "                                                                 \n",
      " dropout_20 (Dropout)        (None, 64)                0         \n",
      "                                                                 \n",
      " dense_40 (Dense)            (None, 32)                2080      \n",
      "                                                                 \n",
      " dense_41 (Dense)            (None, 3)                 99        \n",
      "                                                                 \n",
      "=================================================================\n",
      "Total params: 481,699\n",
      "Trainable params: 481,699\n",
      "Non-trainable params: 0\n",
      "_________________________________________________________________\n"
     ]
    }
   ],
   "source": [
    "dense_model = load_model('../models/dense.h5'); dense_model.summary()"
   ]
  },
  {
   "cell_type": "code",
   "execution_count": 130,
   "metadata": {},
   "outputs": [
    {
     "data": {
      "text/plain": [
       "array([[2.7352865e-04, 9.9937385e-01, 3.5267646e-04],\n",
       "       [2.6141937e-04, 9.9943012e-01, 3.0850151e-04],\n",
       "       [2.6141937e-04, 9.9943012e-01, 3.0850151e-04],\n",
       "       ...,\n",
       "       [1.1564973e-02, 9.8838753e-01, 4.7527119e-05],\n",
       "       [1.1564973e-02, 9.8838753e-01, 4.7527119e-05],\n",
       "       [1.1762273e-02, 9.8819089e-01, 4.6938232e-05]], dtype=float32)"
      ]
     },
     "execution_count": 130,
     "metadata": {},
     "output_type": "execute_result"
    }
   ],
   "source": [
    "cnn_pred = cnn_model.predict(test_ds); cnn_pred"
   ]
  },
  {
   "cell_type": "code",
   "execution_count": 131,
   "metadata": {},
   "outputs": [
    {
     "data": {
      "text/plain": [
       "(array([-1,  0,  1]), array([ 1623, 10232,   836]))"
      ]
     },
     "execution_count": 131,
     "metadata": {},
     "output_type": "execute_result"
    }
   ],
   "source": [
    "pred_labels_cnn = np.argmax(cnn_pred, axis=1) - 1; pred_labels_cnn\n",
    "np.unique(pred_labels_cnn, return_counts=True)"
   ]
  },
  {
   "cell_type": "code",
   "execution_count": 132,
   "metadata": {},
   "outputs": [
    {
     "data": {
      "text/plain": [
       "array([[3.4124259e-04, 9.9917668e-01, 4.8201802e-04],\n",
       "       [3.9053327e-04, 9.9922001e-01, 3.8939880e-04],\n",
       "       [3.9053327e-04, 9.9922001e-01, 3.8939880e-04],\n",
       "       ...,\n",
       "       [7.8583835e-03, 9.8975450e-01, 2.3871285e-03],\n",
       "       [7.8583835e-03, 9.8975450e-01, 2.3871285e-03],\n",
       "       [9.5988447e-03, 9.8808753e-01, 2.3136293e-03]], dtype=float32)"
      ]
     },
     "execution_count": 132,
     "metadata": {},
     "output_type": "execute_result"
    }
   ],
   "source": [
    "dense_pred = dense_model.predict(test_ds); dense_pred"
   ]
  },
  {
   "cell_type": "code",
   "execution_count": 133,
   "metadata": {},
   "outputs": [
    {
     "data": {
      "text/plain": [
       "(array([-1,  0,  1]), array([1880, 9641, 1170]))"
      ]
     },
     "execution_count": 133,
     "metadata": {},
     "output_type": "execute_result"
    }
   ],
   "source": [
    "pred_labels_dense = np.argmax(dense_pred, axis=1) -1; \n",
    "np.unique(pred_labels_dense, return_counts=True)"
   ]
  },
  {
   "cell_type": "code",
   "execution_count": 134,
   "metadata": {},
   "outputs": [],
   "source": [
    "from sklearn.metrics import balanced_accuracy_score, accuracy_score"
   ]
  },
  {
   "cell_type": "code",
   "execution_count": 135,
   "metadata": {},
   "outputs": [
    {
     "name": "stdout",
     "output_type": "stream",
     "text": [
      "CNN\n",
      "balanced:  0.8968845497338159\n",
      "accuracy:  0.9144275470806084\n"
     ]
    }
   ],
   "source": [
    "print('CNN')\n",
    "print('balanced: ', balanced_accuracy_score(pred_labels_cnn, labels_orig))\n",
    "print('accuracy: ', accuracy_score(pred_labels_cnn, labels_orig))"
   ]
  },
  {
   "cell_type": "code",
   "execution_count": 136,
   "metadata": {},
   "outputs": [
    {
     "name": "stdout",
     "output_type": "stream",
     "text": [
      "DENSE\n",
      "balanced:  0.9042426386665419\n",
      "accuracy:  0.9468914979119061\n"
     ]
    }
   ],
   "source": [
    "print('DENSE')\n",
    "print('balanced: ', balanced_accuracy_score(pred_labels_dense, labels_orig))\n",
    "print('accuracy: ', accuracy_score(pred_labels_dense, labels_orig))"
   ]
  },
  {
   "cell_type": "code",
   "execution_count": null,
   "metadata": {},
   "outputs": [],
   "source": []
  }
 ],
 "metadata": {
  "interpreter": {
   "hash": "c0789bd774c15ad91e642e9f45ea84dae0d1c3470c12d2575a05e548c3bc620a"
  },
  "kernelspec": {
   "display_name": "Python 3",
   "language": "python",
   "name": "python3"
  },
  "language_info": {
   "codemirror_mode": {
    "name": "ipython",
    "version": 3
   },
   "file_extension": ".py",
   "mimetype": "text/x-python",
   "name": "python",
   "nbconvert_exporter": "python",
   "pygments_lexer": "ipython3",
   "version": "3.8.3"
  }
 },
 "nbformat": 4,
 "nbformat_minor": 4
}
